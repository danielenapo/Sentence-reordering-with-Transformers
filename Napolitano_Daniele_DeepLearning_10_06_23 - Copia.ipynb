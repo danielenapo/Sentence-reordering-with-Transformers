{
  "cells": [
    {
      "cell_type": "markdown",
      "metadata": {
        "id": "ElNaMbLnRdHR"
      },
      "source": [
        "# **Sentence Reconstruction** \n",
        "## Deep Learning Exam, 10/06/2023\n",
        "## Daniele Napolitano\n",
        "#### daniele.napolitano4@studio.unibo.it - 0001085649\n",
        "\n",
        "\n",
        "---\n",
        "\n"
      ]
    },
    {
      "cell_type": "markdown",
      "metadata": {
        "id": "oXr4iGUGRms8"
      },
      "source": [
        "The purpose of this project is to take in input a sequence of words corresponding to a random permutation of a given english sentence, and reconstruct the original sentence. \n",
        "CONSTRAINTS:\n",
        "* No pretrained model can be used.\n",
        "* The neural network models should have less the 20M parameters.\n",
        "\n",
        "In this work, I propose a Transformer model for the task of sentence shuffling, which can generate shuffled sentences that preserve the meaning and grammaticality of the original sentences. I compare the performance of the proposed Transformer model with other alternative methods that use Seq2Seq models or positional vectors."
      ]
    },
    {
      "cell_type": "markdown",
      "metadata": {
        "id": "iQ8k-L-WUK7l"
      },
      "source": [
        "# Dataset\n",
        "\n",
        "The dataset is composed by a snapshot of wikipedia. We restricted the vocabolary to the 10K most frequent words, and only took sentences making use of this vocabulary. In addition, we restricted to sequences with a length between 3 and 30 words."
      ]
    },
    {
      "cell_type": "code",
      "execution_count": null,
      "metadata": {
        "colab": {
          "base_uri": "https://localhost:8080/"
        },
        "id": "0xmXLLfaUKA6",
        "outputId": "50a39f97-c699-4719-9afa-d9ccb4fe7cff"
      },
      "outputs": [],
      "source": [
        "!pip install datasets\n",
        "!pip3 install apache-beam\n",
        "!pip install -q --upgrade keras-nlp tensorflow\n"
      ]
    },
    {
      "cell_type": "code",
      "execution_count": 2,
      "metadata": {
        "id": "INZIMG8itLHh"
      },
      "outputs": [],
      "source": [
        "from random import Random\n",
        "randomizer = Random(42)"
      ]
    },
    {
      "cell_type": "code",
      "execution_count": 4,
      "metadata": {
        "id": "jRVmQCKdRb54"
      },
      "outputs": [],
      "source": [
        "from keras.preprocessing.text import Tokenizer\n",
        "from keras.utils import to_categorical, pad_sequences\n",
        "import numpy as np \n",
        "import pickle\n",
        "import gdown\n",
        "import random"
      ]
    },
    {
      "cell_type": "code",
      "execution_count": 5,
      "metadata": {
        "colab": {
          "base_uri": "https://localhost:8080/",
          "height": 244,
          "referenced_widgets": [
            "7e65f104c26d4fbab42948d90cee1e9a",
            "04f5540fc245405688436a49f87cfb2e",
            "7e8161c2bf9f4b9d8e90f227e78d2233",
            "8cd8a01149eb4c59b0003f9094ca4047",
            "8c0eb60296604b5e9c2b5154f679b674",
            "f768c4a707a74c6d8d4c0c8696d21693",
            "b99efd5818a0449f87c5f9533b61f5dd",
            "a4f50377f00244eaaddffd67f0d4b2e4",
            "500b4ccbd201471a87313ce4b3a09cda",
            "480e0896687b4057b8683b8ff492854c",
            "60f89e5ce16345a9be0b4f9ee2f4af72",
            "ac0291d5b6ea4c20a1c1dd77cb0e0d22",
            "df3b119ae67b4805bae4fa86b900f1c0",
            "5a44d17df3714c1eb112b7f99e6283cc",
            "62d0f6c001b64dfcad5b67cd9a3a3694",
            "bd1c56625722433e900bb33f052d9636",
            "156b3e0178bc402c9f7076bf9770f511",
            "abbf064cf5b34bcbb624cc2fa455c441",
            "2c0160ea8b3a42e58ddd6856ddab0d8e",
            "2af19ff365fd46f98b8e53b895b3f6a4",
            "d6d36d96bd9d474aa42fbc0062c29503",
            "186f6aa6c1234a64b53a036a6ec63a01",
            "55424fa2e06b4df28240578688250369",
            "35449ae03b22462ca7d967a43aab3e24",
            "744a2304acb1422396be3ae608c08399",
            "535b5a849899443f8b59f569137e24c6",
            "21c0b8680cc749fea2e7cb038bf90a32",
            "3e2a5aa8cbcf444cb071770d75025755",
            "d06c2f1623d94d79bbc45fbfac0578da",
            "3e7fb38b77974a2197c4dc8ef5d4cd4b",
            "71e4da671c3a4f7e8d2f52263d410b87",
            "6c20aeda903c418aaf16602cc718415b",
            "db49b06dacfd476b904e1172263248eb",
            "a08228c1de474f5ab8e30c16456650d4",
            "b730f5781c0f4cf39bf5274ed7047b27",
            "a809636ed86f4307a9b57d4912c99dcd",
            "cbd1fc78436a479b9459457e168c1871",
            "d472a00c17f449fb82b1b05fc7b3d2eb",
            "2898db7e19b84b0db497ebff7717995e",
            "938a415b6a384b78ab146dacabc837ec",
            "e96ef9c002904870913390815212a5b2",
            "d65e8293ffb7485d832d5a7e0f66fb56",
            "7d410da3de4e4269928f418d55c9013c",
            "6955543bb63a43c596a84bb97e23c56d",
            "09344db2a14545ccb3208ac1d7cb217f",
            "50e6c9274b464fd8be2cc371f45a0f3a",
            "4910c7b24b1e4dcebb3efb5decb6a5d8",
            "5cc7a9fa75094929b309c89cce8df6ee",
            "ab80fc14647946a19d9039db623df8c8",
            "c757bf449d65434391d4e03b6229a42c",
            "0cdde080537c4f5aaa6039ca2ab68fe0",
            "baf9b328a620430ebdfd84ee168b374b",
            "d7da178a17df4656998a37ccb0600332",
            "d5eddd816748421a8dd3220a7a2270a3",
            "11d8b17320dd42818a7b20011eef941b",
            "a6d31b80434c4db4bfea86ac88f30cc1",
            "a1bdfb3177da4bb9941fc8b540b22c73",
            "3a45de1840ce4377b62b1caa58b069c5",
            "23ae0d1208be4bdc9084c4a7d6f72ad2",
            "50812d3dfb18452aa55a3a85a375c952",
            "be8fd0a9771241e08bd12cdaf6cee31c",
            "ed7bfe8f79324ffcb092cc86b44e4a9a",
            "c2c3b02ec0a14712b44a038cee1fdb4d",
            "033dbc5008c045ca841d1834f513efbd",
            "09384d7f9791464394de8f449df6b823",
            "01122bcc428e4d92b33b287dae349ccb"
          ]
        },
        "id": "AoeyVDv9uDwx",
        "outputId": "007229be-d5ae-4f27-8e3d-6d9619d16a11"
      },
      "outputs": [
        {
          "data": {
            "application/vnd.jupyter.widget-view+json": {
              "model_id": "7e65f104c26d4fbab42948d90cee1e9a",
              "version_major": 2,
              "version_minor": 0
            },
            "text/plain": [
              "Downloading builder script:   0%|          | 0.00/35.9k [00:00<?, ?B/s]"
            ]
          },
          "metadata": {},
          "output_type": "display_data"
        },
        {
          "data": {
            "application/vnd.jupyter.widget-view+json": {
              "model_id": "ac0291d5b6ea4c20a1c1dd77cb0e0d22",
              "version_major": 2,
              "version_minor": 0
            },
            "text/plain": [
              "Downloading metadata:   0%|          | 0.00/30.4k [00:00<?, ?B/s]"
            ]
          },
          "metadata": {},
          "output_type": "display_data"
        },
        {
          "data": {
            "application/vnd.jupyter.widget-view+json": {
              "model_id": "55424fa2e06b4df28240578688250369",
              "version_major": 2,
              "version_minor": 0
            },
            "text/plain": [
              "Downloading readme:   0%|          | 0.00/16.3k [00:00<?, ?B/s]"
            ]
          },
          "metadata": {},
          "output_type": "display_data"
        },
        {
          "name": "stdout",
          "output_type": "stream",
          "text": [
            "Downloading and preparing dataset wikipedia/20220301.simple to /root/.cache/huggingface/datasets/wikipedia/20220301.simple/2.0.0/aa542ed919df55cc5d3347f42dd4521d05ca68751f50dbc32bae2a7f1e167559...\n"
          ]
        },
        {
          "data": {
            "application/vnd.jupyter.widget-view+json": {
              "model_id": "a08228c1de474f5ab8e30c16456650d4",
              "version_major": 2,
              "version_minor": 0
            },
            "text/plain": [
              "Downloading:   0%|          | 0.00/1.66k [00:00<?, ?B/s]"
            ]
          },
          "metadata": {},
          "output_type": "display_data"
        },
        {
          "data": {
            "application/vnd.jupyter.widget-view+json": {
              "model_id": "09344db2a14545ccb3208ac1d7cb217f",
              "version_major": 2,
              "version_minor": 0
            },
            "text/plain": [
              "Downloading:   0%|          | 0.00/235M [00:00<?, ?B/s]"
            ]
          },
          "metadata": {},
          "output_type": "display_data"
        },
        {
          "name": "stdout",
          "output_type": "stream",
          "text": [
            "Dataset wikipedia downloaded and prepared to /root/.cache/huggingface/datasets/wikipedia/20220301.simple/2.0.0/aa542ed919df55cc5d3347f42dd4521d05ca68751f50dbc32bae2a7f1e167559. Subsequent calls will reuse this data.\n"
          ]
        },
        {
          "data": {
            "application/vnd.jupyter.widget-view+json": {
              "model_id": "a6d31b80434c4db4bfea86ac88f30cc1",
              "version_major": 2,
              "version_minor": 0
            },
            "text/plain": [
              "  0%|          | 0/1 [00:00<?, ?it/s]"
            ]
          },
          "metadata": {},
          "output_type": "display_data"
        }
      ],
      "source": [
        "from datasets import load_dataset\n",
        "dataset = load_dataset(\"wikipedia\", \"20220301.simple\")\n",
        "data = dataset['train'][:20000]['text']"
      ]
    },
    {
      "cell_type": "code",
      "execution_count": 6,
      "metadata": {
        "colab": {
          "base_uri": "https://localhost:8080/"
        },
        "id": "OzcYlWm8trh9",
        "outputId": "52eefc8a-9cad-4752-ec7b-86d3d79bd3b9"
      },
      "outputs": [
        {
          "name": "stdout",
          "output_type": "stream",
          "text": [
            "corpus dim:  510023\n",
            "filtered sentences:  137301\n"
          ]
        }
      ],
      "source": [
        "#run this cell only the first time to create and save the tokenizer and the date\n",
        "dump = True\n",
        "tokenizer = Tokenizer(split=' ', filters='!\"#$%&()*+,-./:;=?@[\\\\]^_`{|}~\\t\\n', num_words=10000, oov_token='<unk>')\n",
        "corpus = []\n",
        "# Split of each piece of text into sentences\n",
        "for elem in data:\n",
        "  corpus += elem.lower().replace(\"\\n\", \"\").split(\".\")[:]\n",
        "print(\"corpus dim: \",len(corpus))\n",
        "#add a start and an end token\n",
        "corpus = ['<start> '+s+' <end>' for s in corpus]\n",
        "# Tokenization\t\n",
        "tokenizer.fit_on_texts(corpus)\n",
        "if dump:\n",
        "    with open('tokenizer.pickle', 'wb') as handle:\n",
        "        pickle.dump(tokenizer, handle, protocol=pickle.HIGHEST_PROTOCOL)\n",
        "original_data = [sen for sen in tokenizer.texts_to_sequences(corpus) if (len(sen) <= 32 and len(sen)>4 and not(1 in sen))]\n",
        "if dump:\n",
        "    with open('original.pickle', 'wb') as handle:\n",
        "        pickle.dump(original_data, handle, protocol=pickle.HIGHEST_PROTOCOL)\n",
        "print (\"filtered sentences: \",len(original_data))\n",
        "\n",
        "sos = tokenizer.word_index['<start>']\n",
        "eos = tokenizer.word_index['<end>']\n",
        "tokenizer.word_index['<pad>'] = 0\n",
        "tokenizer.index_word[0] = '<pad>'"
      ]
    },
    {
      "cell_type": "code",
      "execution_count": 7,
      "metadata": {
        "colab": {
          "base_uri": "https://localhost:8080/"
        },
        "id": "Z3swqiOSoXEy",
        "outputId": "dea11531-6e11-4563-c6d4-d867d8fa7928"
      },
      "outputs": [
        {
          "name": "stdout",
          "output_type": "stream",
          "text": [
            "271573\n",
            "10000\n"
          ]
        }
      ],
      "source": [
        "print(len(tokenizer.word_index)) #this dictionary maps integers to words. its size is the number of unique tokens\n",
        "vocabulary_dim = tokenizer.num_words\n",
        "print(vocabulary_dim)"
      ]
    },
    {
      "cell_type": "markdown",
      "metadata": {
        "id": "K1woGS7a4Ez4"
      },
      "source": [
        "* shuffled_data contains scrumbled sequences, and will be the input to the model. \n",
        "* target_data is the same as original data but offset by one timestep.\n",
        "It is only useful if you plan to do some language modeling with a teacher forcing technique. You might decide to ignore it.\n"
      ]
    },
    {
      "cell_type": "code",
      "execution_count": 8,
      "metadata": {
        "id": "rs4cerfa4D15"
      },
      "outputs": [],
      "source": [
        "shuffled_data = [random.sample(s[1:-1],len(s)-2) for s in original_data]\n",
        "shuffled_data = [[sos]+s+[eos] for s in shuffled_data]\n",
        "target_data = [s[1:] for s in original_data] #it's original data without sos token"
      ]
    },
    {
      "cell_type": "code",
      "execution_count": 9,
      "metadata": {
        "id": "dIDuV_Sj9oZo"
      },
      "outputs": [],
      "source": [
        "from sklearn.model_selection import train_test_split\n",
        "x_train, x_test, c_train, c_test, y_train, y_test = train_test_split(original_data, shuffled_data, target_data, test_size = 0.3, random_state = 42)"
      ]
    },
    {
      "cell_type": "code",
      "execution_count": 10,
      "metadata": {
        "id": "cbZ1tSFN-kWj"
      },
      "outputs": [],
      "source": [
        "max_sequence_len = max([len(x) for x in original_data])\n",
        "#pad everything\n",
        "x_train = pad_sequences(x_train, maxlen=max_sequence_len, padding='post')\n",
        "x_test = pad_sequences(x_test, maxlen=max_sequence_len, padding='post')\n",
        "c_train = pad_sequences(c_train, maxlen=max_sequence_len, padding='post')\n",
        "c_test = pad_sequences(c_test, maxlen=max_sequence_len, padding='post')\n",
        "y_train = pad_sequences(y_train, maxlen=max_sequence_len, padding='post')\n",
        "y_test = pad_sequences(y_test, maxlen=max_sequence_len, padding='post')\n",
        "#create padding masks\n",
        "x_train_mask = np.where(x_train == 0, 0, 1)\n",
        "x_test_mask = np.where(x_test == 0, 0, 1)\n",
        "c_train_mask = np.where(c_train == 0, 0, 1)\n",
        "c_test_mask = np.where(c_test == 0, 0, 1)"
      ]
    },
    {
      "cell_type": "code",
      "execution_count": 11,
      "metadata": {
        "colab": {
          "base_uri": "https://localhost:8080/"
        },
        "id": "2PVzEwm8-8Yj",
        "outputId": "dc376cba-e113-4ee8-c126-d0a53f02053f"
      },
      "outputs": [
        {
          "name": "stdout",
          "output_type": "stream",
          "text": [
            "x_train size: 96110\n"
          ]
        }
      ],
      "source": [
        "print(\"x_train size:\", len(x_train))\n",
        "assert(len(x_train)==len(c_train)==len(y_train))"
      ]
    },
    {
      "cell_type": "markdown",
      "metadata": {
        "id": "Fo8MazCGBTv3"
      },
      "source": [
        "# Metrics"
      ]
    },
    {
      "cell_type": "markdown",
      "metadata": {
        "id": "G0NOkuO0CfPo"
      },
      "source": [
        "The quality of the results will be measured according to the following metric:\n",
        "\n",
        "1.  look for the longest substring w between s and p\n",
        "2.  compute |w|/max(|s|,|p|)\n",
        "\n",
        "If the match is exact, the score is 1. \n",
        "\n",
        "\n"
      ]
    },
    {
      "cell_type": "code",
      "execution_count": 14,
      "metadata": {
        "id": "ulpTRdrF_huh"
      },
      "outputs": [],
      "source": [
        "from difflib import SequenceMatcher\n",
        "def score(s,p):\n",
        "  match = SequenceMatcher(None, s, p).find_longest_match()\n",
        "  #print(match.size)\n",
        "  return (match.size/max(len(p),len(s)))  "
      ]
    },
    {
      "cell_type": "markdown",
      "metadata": {
        "id": "m74Tnys3qSKl"
      },
      "source": [
        "# The model (Transformer)\n",
        "For this task, it was implemented a Transformer model, following as much as possible the implementation described in the original paper _[\"Attention is all you need\"](https://arxiv.org/pdf/1706.03762.pdf) (Vaswani et al., 2017)_.<br>\n",
        "### Hyperparameters\n",
        "Here are some of the most important hyperparameters and their meaning:\n",
        "- `embedding dim` -> **256** (The dimensionality of the model's hidden states and embeddings)\n",
        "- `num_heads` -> **10** (The number of attention heads used in the multi-head attention mechanism)\n",
        "- `num_layers` -> **5** (The number of layers in the encoder and decoder stacks)\n",
        "- `intermediate_dim` -> **1640** (The number of units in the feedforward sublayer of the encoder and decoder layers)\n",
        "- `dropout_rate` -> **0.1** (The dropout rate used in the encoder and decoder layers)\n",
        "- `batch_size` -> **512** (The number of samples processed in each training batch)\n",
        "- `optimizer` -> **Adam**, with the same parameters of the paper (The optimizer used to train the model)\n",
        "- `learning_rate` -> The learning rate followed a custom schedule, taken by the original paper\n",
        "- `warmup_steps` -> **1000** (The number of warmup steps used in the learning rate schedule)\n"
      ]
    },
    {
      "cell_type": "code",
      "execution_count": 15,
      "metadata": {
        "id": "RLqQXWNlqRMq"
      },
      "outputs": [],
      "source": [
        "from keras_nlp.models import AlbertBackbone\n",
        "from keras_nlp.layers import TransformerEncoder, TokenAndPositionEmbedding, TransformerDecoder\n",
        "\n",
        "from keras.layers import Dense, Input, Reshape, Dropout\n",
        "from keras.models import Model\n",
        "from tensorflow.keras.optimizers import Adam\n",
        "\n",
        "def get_transformer(embedding_dim, num_enc_layers, num_dec_layers, intermediate_dim, num_heads):\n",
        "\n",
        "  #============== INPUTS ===================\n",
        "  enc_id_input = Input(\n",
        "      shape=(32,),\n",
        "      dtype=\"int32\",\n",
        "      name=\"token_ids_enc\",\n",
        "  )\n",
        "  dec_id_input = Input(\n",
        "      shape=(32,),\n",
        "      dtype=\"int32\",\n",
        "      name=\"token_ids_dec\",\n",
        "  )\n",
        "  #padding masks are useful for the model to only focus on the relevant parts, and to be more efficient\n",
        "  padding_mask_enc = Input( shape=(32,), name=\"padding_mask_enc\",)\n",
        "  padding_mask_dec = Input( shape=(32,),name=\"padding_mask_dec\",)\n",
        "\n",
        "  #============== ENCODER ==================\n",
        "  emb_enc = TokenAndPositionEmbedding(\n",
        "      vocabulary_size=10000,\n",
        "      sequence_length=32,\n",
        "      embedding_dim=embedding_dim,\n",
        "      name=\"enc_emb\",\n",
        "  )(enc_id_input)\n",
        "  #create list of encoders\n",
        "  encoder_layers = []\n",
        "  for i in range(num_enc_layers):\n",
        "    encoder_layer = TransformerEncoder(\n",
        "      num_heads=num_heads,\n",
        "      intermediate_dim=intermediate_dim,\n",
        "      dropout=0.1,\n",
        "      name=\"encoder\"+str(i)\n",
        "    )\n",
        "    encoder_layers.append(encoder_layer)\n",
        "  # Apply encoder layers\n",
        "  encoder_seq = emb_enc\n",
        "  for encoder_layer in encoder_layers:\n",
        "    encoder_seq = encoder_layer(encoder_seq, padding_mask=padding_mask_enc)\n",
        "\n",
        "  #============== DECODER ==================\n",
        "  emb_dec = TokenAndPositionEmbedding(\n",
        "      vocabulary_size=10000,\n",
        "      sequence_length=32,\n",
        "      embedding_dim=embedding_dim,\n",
        "      name=\"dec_emb\",\n",
        "  )(dec_id_input)\n",
        "  # Create a list of decoder layers\n",
        "  decoder_layers = []\n",
        "  for i in range(num_dec_layers):\n",
        "    decoder_layer = TransformerDecoder(\n",
        "      num_heads=num_heads,\n",
        "      intermediate_dim=intermediate_dim,\n",
        "      dropout=0.1,\n",
        "      name=\"decoder\"+str(i)\n",
        "    )\n",
        "    decoder_layers.append(decoder_layer)\n",
        "  # Apply decoder layers\n",
        "  decoder_seq = emb_dec\n",
        "  for decoder_layer in decoder_layers:\n",
        "    decoder_seq = decoder_layer(encoder_sequence=encoder_seq, decoder_sequence=decoder_seq,\n",
        "                                decoder_padding_mask=padding_mask_dec, encoder_padding_mask=padding_mask_enc)\n",
        "    \n",
        "  #================ OUTPUT ================\n",
        "  outputs = Dense(10000, activation=\"softmax\")(decoder_seq)\n",
        "\n",
        "  model = Model(inputs=[enc_id_input,dec_id_input, padding_mask_enc, padding_mask_dec], outputs=outputs)\n",
        "  model.summary()\n",
        "  return model"
      ]
    },
    {
      "cell_type": "code",
      "execution_count": 32,
      "metadata": {
        "colab": {
          "base_uri": "https://localhost:8080/"
        },
        "id": "Dd-etRbZa3Oo",
        "outputId": "677f743b-065a-475e-c5f6-17e61378cf68"
      },
      "outputs": [
        {
          "name": "stdout",
          "output_type": "stream",
          "text": [
            "Model: \"model_14\"\n",
            "__________________________________________________________________________________________________\n",
            " Layer (type)                   Output Shape         Param #     Connected to                     \n",
            "==================================================================================================\n",
            " token_ids_enc (InputLayer)     [(None, 32)]         0           []                               \n",
            "                                                                                                  \n",
            " padding_mask_enc (InputLayer)  [(None, 32)]         0           []                               \n",
            "                                                                                                  \n",
            " enc_emb (TokenAndPositionEmbed  (None, 32, 256)     2568192     ['token_ids_enc[0][0]']          \n",
            " ding)                                                                                            \n",
            "                                                                                                  \n",
            " encoder0 (TransformerEncoder)  (None, 32, 256)      1099606     ['enc_emb[0][0]',                \n",
            "                                                                  'padding_mask_enc[0][0]']       \n",
            "                                                                                                  \n",
            " encoder1 (TransformerEncoder)  (None, 32, 256)      1099606     ['encoder0[0][0]',               \n",
            "                                                                  'padding_mask_enc[0][0]']       \n",
            "                                                                                                  \n",
            " encoder2 (TransformerEncoder)  (None, 32, 256)      1099606     ['encoder1[0][0]',               \n",
            "                                                                  'padding_mask_enc[0][0]']       \n",
            "                                                                                                  \n",
            " token_ids_dec (InputLayer)     [(None, 32)]         0           []                               \n",
            "                                                                                                  \n",
            " encoder3 (TransformerEncoder)  (None, 32, 256)      1099606     ['encoder2[0][0]',               \n",
            "                                                                  'padding_mask_enc[0][0]']       \n",
            "                                                                                                  \n",
            " dec_emb (TokenAndPositionEmbed  (None, 32, 256)     2568192     ['token_ids_dec[0][0]']          \n",
            " ding)                                                                                            \n",
            "                                                                                                  \n",
            " padding_mask_dec (InputLayer)  [(None, 32)]         0           []                               \n",
            "                                                                                                  \n",
            " encoder4 (TransformerEncoder)  (None, 32, 256)      1099606     ['encoder3[0][0]',               \n",
            "                                                                  'padding_mask_enc[0][0]']       \n",
            "                                                                                                  \n",
            " decoder0 (TransformerDecoder)  (None, 32, 256)      1357124     ['dec_emb[0][0]',                \n",
            "                                                                  'padding_mask_dec[0][0]',       \n",
            "                                                                  'padding_mask_enc[0][0]',       \n",
            "                                                                  'encoder4[0][0]']               \n",
            "                                                                                                  \n",
            " decoder1 (TransformerDecoder)  (None, 32, 256)      1357124     ['decoder0[0][0]',               \n",
            "                                                                  'padding_mask_dec[0][0]',       \n",
            "                                                                  'padding_mask_enc[0][0]',       \n",
            "                                                                  'encoder4[0][0]']               \n",
            "                                                                                                  \n",
            " decoder2 (TransformerDecoder)  (None, 32, 256)      1357124     ['decoder1[0][0]',               \n",
            "                                                                  'padding_mask_dec[0][0]',       \n",
            "                                                                  'padding_mask_enc[0][0]',       \n",
            "                                                                  'encoder4[0][0]']               \n",
            "                                                                                                  \n",
            " decoder3 (TransformerDecoder)  (None, 32, 256)      1357124     ['decoder2[0][0]',               \n",
            "                                                                  'padding_mask_dec[0][0]',       \n",
            "                                                                  'padding_mask_enc[0][0]',       \n",
            "                                                                  'encoder4[0][0]']               \n",
            "                                                                                                  \n",
            " decoder4 (TransformerDecoder)  (None, 32, 256)      1357124     ['decoder3[0][0]',               \n",
            "                                                                  'padding_mask_dec[0][0]',       \n",
            "                                                                  'padding_mask_enc[0][0]',       \n",
            "                                                                  'encoder4[0][0]']               \n",
            "                                                                                                  \n",
            " dense_14 (Dense)               (None, 32, 10000)    2570000     ['decoder4[0][0]']               \n",
            "                                                                                                  \n",
            "==================================================================================================\n",
            "Total params: 19,990,034\n",
            "Trainable params: 19,990,034\n",
            "Non-trainable params: 0\n",
            "__________________________________________________________________________________________________\n"
          ]
        }
      ],
      "source": [
        "import tensorflow as tf\n",
        "# custom learning rate schedule used in the original Transformer paper\n",
        "class CustomSchedule(tf.keras.optimizers.schedules.LearningRateSchedule):\n",
        "  def __init__(self, d_model, warmup_steps=4000):\n",
        "    super().__init__()\n",
        "    self.d_model = d_model\n",
        "    self.warmup_steps = warmup_steps\n",
        "  def __call__(self, step):\n",
        "    step = tf.cast(step, dtype=tf.float32)\n",
        "    arg1 = tf.math.rsqrt(step)\n",
        "    arg2 = step * tf.cast((self.warmup_steps ** -1.5), dtype=tf.float32)\n",
        "    return tf.math.rsqrt(tf.cast(self.d_model, dtype=tf.float32)) * tf.math.minimum(arg1, arg2)\n",
        "  def get_config(self):\n",
        "    config = {\n",
        "        'd_model': self.d_model,\n",
        "        'warmup_steps': self.warmup_steps\n",
        "    }\n",
        "    return config\n",
        "  \n",
        "embedding_dim=256\n",
        "learning_rate = CustomSchedule(d_model=embedding_dim, warmup_steps=1000)\n",
        "\n",
        "model=get_transformer(embedding_dim=embedding_dim, num_enc_layers=5, num_dec_layers=5, intermediate_dim=1640, num_heads=10)\n",
        "optimizer=Adam(learning_rate=learning_rate, beta_1=0.9, beta_2=0.98,epsilon=1e-9) # same optimizer params as original Transformer paper\n",
        "model.compile(optimizer=optimizer, loss=\"categorical_crossentropy\", metrics=[\"categorical_accuracy\"])"
      ]
    },
    {
      "cell_type": "markdown",
      "metadata": {},
      "source": [
        "# Training"
      ]
    },
    {
      "cell_type": "markdown",
      "metadata": {
        "id": "R6AK9rNTa3Op"
      },
      "source": [
        "The snippet below defines a generator function that creates one-hot encodings of the output sequences and shuffles the tokens in the input sequences, so for each batch it will see a new way of shuffling the data (to reduce overfitting and to better generalize). <br>\n",
        "The generator will be fed to the `fit` method, and returns a tuple of input and output sequences for each batch.<br>\n",
        "There are also two callback functions for early stopping and checkpointing the best model.\n",
        "\n"
      ]
    },
    {
      "cell_type": "code",
      "execution_count": 33,
      "metadata": {
        "id": "z5wLg-c6snts"
      },
      "outputs": [],
      "source": [
        "def generator(x_train, c_train, pad_mask, y_train, batch_size):\n",
        "    while True:\n",
        "        for i in range(0, len(x_train), batch_size):\n",
        "            y_onehot = to_categorical(y_train[i:i+batch_size], num_classes=vocabulary_dim)\n",
        "            #create new c_train by shuffling the tokens in x_train[i:i+batch_size] (apart from first token, eos token and padding tokens)\n",
        "            target=c_train[i:i+batch_size]\n",
        "            for j in range(len(target)):\n",
        "                eos_index=np.where(target[j]==eos)[0][0]\n",
        "                target[j][1:eos_index]=np.random.permutation(target[j][1:eos_index])\n",
        "            yield ([target,x_train[i:i+batch_size], pad_mask[i:i+batch_size], pad_mask[i:i+batch_size]], y_onehot)\n",
        "\n",
        "#callbacks\n",
        "from keras.callbacks import ModelCheckpoint\n",
        "from keras.callbacks import EarlyStopping\n",
        "early_stopping = EarlyStopping(monitor='val_loss', patience=5, verbose=1) #stop if validation loss does not improve for 5 epochs\n",
        "checkpoint_all = ModelCheckpoint('checkpoint_{epoch:02d}.h5',verbose=0)"
      ]
    },
    {
      "cell_type": "code",
      "execution_count": 34,
      "metadata": {
        "colab": {
          "base_uri": "https://localhost:8080/"
        },
        "id": "2rXDXq6H_F3j",
        "outputId": "56ad26c8-9939-4099-8535-9ade3b36dab8"
      },
      "outputs": [
        {
          "name": "stdout",
          "output_type": "stream",
          "text": [
            "Epoch 1/100\n",
            "187/187 [==============================] - 299s 1s/step - loss: 4.8360 - categorical_accuracy: 0.5788 - val_loss: 2.5200 - val_categorical_accuracy: 0.6674\n",
            "Epoch 2/100\n",
            "187/187 [==============================] - 219s 1s/step - loss: 2.2933 - categorical_accuracy: 0.6806 - val_loss: 2.2371 - val_categorical_accuracy: 0.6767\n",
            "Epoch 3/100\n",
            "187/187 [==============================] - 212s 1s/step - loss: 1.9855 - categorical_accuracy: 0.7038 - val_loss: 1.8637 - val_categorical_accuracy: 0.7156\n",
            "Epoch 4/100\n",
            "187/187 [==============================] - 216s 1s/step - loss: 1.6879 - categorical_accuracy: 0.7342 - val_loss: 1.4962 - val_categorical_accuracy: 0.7627\n",
            "Epoch 5/100\n",
            "187/187 [==============================] - 215s 1s/step - loss: 1.1898 - categorical_accuracy: 0.7989 - val_loss: 0.9563 - val_categorical_accuracy: 0.8328\n",
            "Epoch 6/100\n",
            "187/187 [==============================] - 219s 1s/step - loss: 0.7571 - categorical_accuracy: 0.8539 - val_loss: 0.6948 - val_categorical_accuracy: 0.8665\n",
            "Epoch 7/100\n",
            "187/187 [==============================] - 218s 1s/step - loss: 0.5277 - categorical_accuracy: 0.8829 - val_loss: 0.6210 - val_categorical_accuracy: 0.8754\n",
            "Epoch 8/100\n",
            "187/187 [==============================] - 218s 1s/step - loss: 0.4142 - categorical_accuracy: 0.8991 - val_loss: 0.5968 - val_categorical_accuracy: 0.8796\n",
            "Epoch 9/100\n",
            "187/187 [==============================] - 218s 1s/step - loss: 0.3394 - categorical_accuracy: 0.9117 - val_loss: 0.5772 - val_categorical_accuracy: 0.8857\n",
            "Epoch 10/100\n",
            "187/187 [==============================] - 214s 1s/step - loss: 0.2866 - categorical_accuracy: 0.9219 - val_loss: 0.6029 - val_categorical_accuracy: 0.8828\n",
            "Epoch 11/100\n",
            "187/187 [==============================] - 218s 1s/step - loss: 0.2465 - categorical_accuracy: 0.9303 - val_loss: 0.5938 - val_categorical_accuracy: 0.8869\n",
            "Epoch 12/100\n",
            "187/187 [==============================] - 212s 1s/step - loss: 0.2141 - categorical_accuracy: 0.9378 - val_loss: 0.5978 - val_categorical_accuracy: 0.8924\n",
            "Epoch 13/100\n",
            "187/187 [==============================] - 219s 1s/step - loss: 0.1871 - categorical_accuracy: 0.9444 - val_loss: 0.5942 - val_categorical_accuracy: 0.8902\n",
            "Epoch 14/100\n",
            "187/187 [==============================] - 214s 1s/step - loss: 0.1647 - categorical_accuracy: 0.9501 - val_loss: 0.6195 - val_categorical_accuracy: 0.8928\n",
            "Epoch 14: early stopping\n"
          ]
        }
      ],
      "source": [
        "batch_size=512\n",
        "history=model.fit(generator(x_train, c_train, c_train_mask, y_train, batch_size=batch_size), steps_per_epoch=len(x_train)//batch_size, epochs=100, shuffle=True, \n",
        "          validation_data=generator(x_test, c_test, c_test_mask,y_test, batch_size), validation_steps=5, \n",
        "          callbacks=[ checkpoint_all, early_stopping])"
      ]
    },
    {
      "cell_type": "markdown",
      "metadata": {
        "id": "c04Z6hYFztef"
      },
      "source": [
        "### Fine tuning\n",
        "The model will be fine-tuned for a couple of batches, using a smaller learning rate of 5e-5. <br>\n",
        "This will slightly improve the final performance of the model (by adding around 0.025 to the final score)."
      ]
    },
    {
      "cell_type": "code",
      "execution_count": 35,
      "metadata": {
        "colab": {
          "base_uri": "https://localhost:8080/"
        },
        "id": "ZBqUdDtvzlqH",
        "outputId": "222dc2a2-3969-478d-8d5f-7923fef8afab"
      },
      "outputs": [
        {
          "name": "stdout",
          "output_type": "stream",
          "text": [
            "Epoch 1/2\n",
            "187/187 [==============================] - 288s 1s/step - loss: 0.1071 - categorical_accuracy: 0.9662 - val_loss: 0.5635 - val_categorical_accuracy: 0.9015\n",
            "Epoch 2/2\n",
            "187/187 [==============================] - 216s 1s/step - loss: 0.0856 - categorical_accuracy: 0.9725 - val_loss: 0.5683 - val_categorical_accuracy: 0.8987\n"
          ]
        }
      ],
      "source": [
        "finetune_stopping = EarlyStopping(monitor='val_categorical_accuracy', patience=3, verbose=1) \n",
        "optimizer=Adam(learning_rate=5e-5, beta_1=0.9, beta_2=0.98,epsilon=1e-9) #fixed learning rate\n",
        "model.compile(optimizer=optimizer, loss=\"categorical_crossentropy\", metrics=[\"categorical_accuracy\"])\n",
        "\n",
        "batch_size=512\n",
        "finetune_history=model.fit(generator(x_train, c_train, c_train_mask, y_train, batch_size=batch_size), steps_per_epoch=len(x_train)//batch_size, epochs=2, shuffle=True, \n",
        "          validation_data=generator(x_test, c_test, c_test_mask,y_test, batch_size), validation_steps=5, \n",
        "          callbacks=[finetune_stopping])\n",
        "model.save(\"transformer256Emb_finetuned.h5\")"
      ]
    },
    {
      "cell_type": "code",
      "execution_count": 37,
      "metadata": {
        "id": "mIbT9Je_a3Op"
      },
      "outputs": [],
      "source": [
        "#save model and training history as csv file\n",
        "import pandas as pd\n",
        "hist_df = pd.DataFrame(history.history)\n",
        "hist_csv_file = 'history_transformer256Emb.csv'\n",
        "with open(hist_csv_file, mode='w') as f:\n",
        "    hist_df.to_csv(f)"
      ]
    },
    {
      "cell_type": "markdown",
      "metadata": {
        "id": "uoRd8A8Ea3Oq"
      },
      "source": [
        "## Analysis of training history\n",
        "The training history is shown below in graphs showing loss and accuracy on the training and validation sets. <br>\n",
        "Also, the learning rate schedule is shown with respect to the number of steps."
      ]
    },
    {
      "cell_type": "code",
      "execution_count": 38,
      "metadata": {
        "colab": {
          "base_uri": "https://localhost:8080/",
          "height": 977
        },
        "id": "jRKXIlC1a3Oq",
        "outputId": "9e48b25d-1e7e-4276-f54f-59e0543d163f"
      },
      "outputs": [
        {
          "name": "stdout",
          "output_type": "stream",
          "text": [
            "total steps:  7168\n",
            "total epochs:  14\n"
          ]
        },
        {
          "data": {
            "image/png": "[encoded data removed]",
            "text/plain": [
              "<Figure size 1500x500 with 2 Axes>"
            ]
          },
          "metadata": {},
          "output_type": "display_data"
        },
        {
          "data": {
            "image/png": "[encoded data removed]",
            "text/plain": [
              "<Figure size 640x480 with 1 Axes>"
            ]
          },
          "metadata": {},
          "output_type": "display_data"
        }
      ],
      "source": [
        "#print number of steps and epochs done\n",
        "print(\"total steps: \", len(history.history[\"loss\"])*batch_size)\n",
        "print(\"total epochs: \", len(history.history[\"loss\"]))\n",
        "#plot accuracy\n",
        "import matplotlib.pyplot as plt\n",
        "plt.figure(figsize=(15,5))\n",
        "plt.subplot(1,2,1)\n",
        "plt.plot(history.history['categorical_accuracy'], label=\"train\")\n",
        "plt.plot(history.history['val_categorical_accuracy'], label=\"validation\")\n",
        "#draw a red point at the best epoch for validation accuracy\n",
        "best_epoch=np.argmax(history.history['val_categorical_accuracy'])\n",
        "plt.plot(best_epoch,history.history['val_categorical_accuracy'][best_epoch],'ro', label=\"best epoch\")\n",
        "plt.title('model accuracy')\n",
        "plt.ylabel('accuracy')\n",
        "plt.xlabel('epoch')\n",
        "plt.legend()\n",
        "#plot loss\n",
        "plt.subplot(1,2,2)\n",
        "plt.plot(history.history['loss'], label=\"train\")\n",
        "plt.plot(history.history['val_loss'], label=\"validation\")\n",
        "#draw a red point at the best epoch for validation loss\n",
        "best_epoch=np.argmin(history.history['val_loss'])\n",
        "plt.plot(best_epoch,history.history['val_loss'][best_epoch],'ro', label=\"best epoch\")\n",
        "plt.title('model loss')\n",
        "plt.ylabel('loss')\n",
        "plt.ylim([0, 2])  # Set y-axis limits to [0, 2]\n",
        "plt.xlabel('epoch')\n",
        "plt.legend()\n",
        "plt.show()\n",
        "#plot learning rate\n",
        "learning_rates = [learning_rate(step).numpy() for step in range(len(history.history['loss'])*batch_size)]\n",
        "plt.plot(np.arange(len(learning_rates)), learning_rates)\n",
        "plt.title(\"Learning Rate variation\")\n",
        "plt.xlabel(\"Step\")\n",
        "plt.ylabel(\"Learning Rate\")\n",
        "plt.show()\n"
      ]
    },
    {
      "cell_type": "markdown",
      "metadata": {
        "id": "3lGYTntAa3Oq"
      },
      "source": [
        "The model showed signs of overfitting after 10 epochs, but the validation accuracy kept increasing slowly, while the loss generally increased.<br>\n",
        "However, by testing the different checkpoint weights saved at the end of each epoch, it was observed that the model still performed better on the test set despite the overfitting. Therefore, the final model was fine-tuned for two more epochs to further enhance the test score, as explained before."
      ]
    },
    {
      "cell_type": "markdown",
      "metadata": {
        "id": "3O0huIxca3Oq"
      },
      "source": [
        "# Evaluation\n",
        "Below is the autoregressive generative method, that taken only c_test (the shuffled test data), iteratively predicts the next word until it reaches the eos token."
      ]
    },
    {
      "cell_type": "code",
      "execution_count": 39,
      "metadata": {
        "id": "GPRHrwGga3Oq"
      },
      "outputs": [],
      "source": [
        "import numpy as np\n",
        "\n",
        "def generate_output_sequences(input_sequences, model, mask_pad):\n",
        "    batch_size = input_sequences.shape[0]\n",
        "    sequence_length = input_sequences.shape[1]\n",
        "    input_sequences = input_sequences.reshape((batch_size, sequence_length))\n",
        "    mask_pad = mask_pad.reshape((batch_size, sequence_length))\n",
        "    # Initialize the output sequences with the start token, end token and padding, in the same way as the input sequences\n",
        "    output_sequences = np.full((batch_size, sequence_length),1, dtype=int)\n",
        "    output_sequences[:, 0] = sos\n",
        "    #this is not necessary, but I tried to see if it would increase the score\n",
        "    for i in range(batch_size):\n",
        "        for j in range(sequence_length):\n",
        "            if input_sequences[i,j]==eos:\n",
        "                output_sequences[i,j]=eos\n",
        "                output_sequences[i,j+1:]=0\n",
        "    c=1\n",
        "    # Generate the output sequences one token at a time for each input sequence in the batch\n",
        "    for i in range(1, sequence_length):\n",
        "        print(f\"{c}/{sequence_length}\", end=\"\\r\")\n",
        "        # Predict the next token in the output sequence for each input sequence in the batch\n",
        "        output_probs = model.predict([input_sequences, output_sequences, mask_pad, mask_pad], verbose=0)\n",
        "        next_token_indices = np.argmax(output_probs[:, i-1, :], axis=1)\n",
        "        # Add the next token to the output sequence for each input sequence in the batch\n",
        "        for j in range(batch_size):\n",
        "            output_sequences[j, i] = next_token_indices[j]\n",
        "\n",
        "        # Stop if the end token or pad is generated for all input sequences in the batch\n",
        "        if np.all(next_token_indices == eos) or np.all(next_token_indices == 0):\n",
        "            break\n",
        "        c+=1\n",
        "    return output_sequences\n",
        "\n",
        "#method that processes token sequences to obtain strings, also removing padding, sos and eos tokens\n",
        "def postprocess(data):\n",
        "    newData=[]\n",
        "    for i in range(len(data)):\n",
        "        for j in range(len(data[i])):\n",
        "            if data[i][j]==3:\n",
        "                newData.append(tokenizer.sequences_to_texts([data[i][1:j]]))\n",
        "\n",
        "                break\n",
        "    return newData\n"
      ]
    },
    {
      "cell_type": "markdown",
      "metadata": {},
      "source": [
        "Testing a single sequence (the first of the test set)\n"
      ]
    },
    {
      "cell_type": "code",
      "execution_count": 40,
      "metadata": {
        "colab": {
          "base_uri": "https://localhost:8080/"
        },
        "id": "V-gjYzTja3Or",
        "outputId": "d3870f35-b0ca-4d37-9abe-cdec8e9ec403"
      },
      "outputs": [
        {
          "name": "stdout",
          "output_type": "stream",
          "text": [
            "on august 6 1928 in pittsburgh pennsylvania\n",
            "pittsburgh pennsylvania on august 6 1928\n",
            "0.5348837209302325\n"
          ]
        }
      ],
      "source": [
        "num_gen=1\n",
        "real_test=generate_output_sequences(c_test[0:num_gen], model, c_test_mask[0:num_gen])\n",
        "real_test=postprocess(real_test[0:num_gen])\n",
        "print(real_test[0][0])\n",
        "b=postprocess(y_test[0:num_gen])\n",
        "print(b[0][0])\n",
        "print(score(real_test[0][0], b[0][0]))\n"
      ]
    },
    {
      "cell_type": "markdown",
      "metadata": {
        "id": "fY86CZA5a3Or"
      },
      "source": [
        "## Computing score\n",
        "The score has to be computed by making autoregressive inference. <br>\n",
        "This process takes a lot of memory, since a full sentence needs to call the predict method 32 times. For this reason, the test was divided into smaller batches."
      ]
    },
    {
      "cell_type": "code",
      "execution_count": 41,
      "metadata": {
        "colab": {
          "base_uri": "https://localhost:8080/",
          "height": 129
        },
        "id": "S6IJFuXPa3Or",
        "outputId": "68152c87-88d7-449f-d480-465831b45356"
      },
      "outputs": [
        {
          "name": "stdout",
          "output_type": "stream",
          "text": [
            "batch 1/2\n",
            "batch 2/2\n"
          ]
        },
        {
          "data": {
            "text/markdown": [
              "### autoregressive score: **0.4856412631262165**\n",
              "### total samples evaluated: **1000**"
            ],
            "text/plain": [
              "<IPython.core.display.Markdown object>"
            ]
          },
          "execution_count": 41,
          "metadata": {},
          "output_type": "execute_result"
        }
      ],
      "source": [
        "batch_size=500\n",
        "total_size=1000\n",
        "index=np.arange(total_size)\n",
        "np.random.shuffle(index)\n",
        "shuffled_y_test = y_test[index]\n",
        "shuffled_c_test = c_test[index]\n",
        "shuffled_c_test_mask = c_test_mask[index]\n",
        "num_batches=total_size//batch_size\n",
        "scores=[]\n",
        "#generate in batches of 256\n",
        "for i in range(0, total_size, batch_size):\n",
        "  print(f\"batch {(i//batch_size)+1}/{num_batches}\")\n",
        "  pred_batch=generate_output_sequences(shuffled_c_test[i:i+batch_size], model, shuffled_c_test_mask[i:i+batch_size])\n",
        "  pred_batch=postprocess(pred_batch)\n",
        "  b=postprocess(shuffled_y_test[i:i+batch_size])\n",
        "  #iterate over batch to calculate score for each sequence \n",
        "  for j in range(batch_size):\n",
        "    try:\n",
        "      scores.append(score(pred_batch[j][0], b[j][0]))\n",
        "    except:\n",
        "      continue\n",
        "\n",
        "from IPython.display import Markdown\n",
        "\n",
        "Markdown(\"### autoregressive score: **\"+str(np.mean(scores))+\"**\\n### total samples evaluated: **\"+str(len(scores))+\"**\")"
      ]
    },
    {
      "cell_type": "markdown",
      "metadata": {
        "id": "YWy393u3a3O1"
      },
      "source": [
        "\n",
        "## Comparison with other approaches\n",
        "In this final section, I compare the performance of the proposed Transformer model with other alternative methods for the task of sentence shuffling. I experimented with the following approaches:\n",
        "\n",
        "- A **Seq2Seq** model with an **LSTM** encoder and decoder. This model failed to capture the long-term dependencies and the syntactic structure of the sentences, resulting in poor shuffling quality.\n",
        "- Both LSTM Seq2Seq and Transformer models using a **positional vector** as target and output. This vector indicated the correct order of the words in the original sentence as a list of indexes. However, this approach did not work well, since if the model didn't generate a coherent set of indexes (which happened often), it could not construct a valid sequence (with an eos token at the end and paddings), resulting in very low scores.\n",
        "- Multiple **Transformers with different hyperparameters**, trying different combinations for the number of layers, heads, hidden units, dropout rate, and learning rate of the Transformer model, but none of them outperformed the baseline model presented above.\n",
        "\n",
        "# **Conclusions**\n",
        "The embedding size was a crucial parameter in the latter experiments, but it also increased the number of parameters significantly. Moreover, adding more encoder and decoder layers improved the performance.<br>\n",
        "An embedding size of 256 was ultimately the best balance between the ability to represent words in enough dimensions, and the ability to capture semantics.<br>\n",
        "The original _\"Attention is all you need\"_ paper used an embedding size of 512, but it also used a much larger dataset (WMT 2014 English-German: 37K vocabulary_dim and 36M sentences)<br><br>\n",
        "Ultimately, the self-attention mechanism proved to be very effective in capturing semantic connections between words, and the positional encoding was able to encode the syntactic structure of the sentences, resulting in a better performance on the task of sentence reordering, compared to LSTMS."
      ]
    }
  ],
  "metadata": {
    "accelerator": "GPU",
    "colab": {
      "gpuType": "T4",
      "provenance": []
    },
    "kernelspec": {
      "display_name": "Python 3",
      "name": "python3"
    },
    "language_info": {
      "codemirror_mode": {
        "name": "ipython",
        "version": 3
      },
      "file_extension": ".py",
      "mimetype": "text/x-python",
      "name": "python",
      "nbconvert_exporter": "python",
      "pygments_lexer": "ipython3",
      "version": "3.10.6"
    },
    "widgets": {
      "application/vnd.jupyter.widget-state+json": {
        "01122bcc428e4d92b33b287dae349ccb": {
          "model_module": "@jupyter-widgets/controls",
          "model_module_version": "1.5.0",
          "model_name": "DescriptionStyleModel",
          "state": {
            "_model_module": "@jupyter-widgets/controls",
            "_model_module_version": "1.5.0",
            "_model_name": "DescriptionStyleModel",
            "_view_count": null,
            "_view_module": "@jupyter-widgets/base",
            "_view_module_version": "1.2.0",
            "_view_name": "StyleView",
            "description_width": ""
          }
        },
        "033dbc5008c045ca841d1834f513efbd": {
          "model_module": "@jupyter-widgets/controls",
          "model_module_version": "1.5.0",
          "model_name": "ProgressStyleModel",
          "state": {
            "_model_module": "@jupyter-widgets/controls",
            "_model_module_version": "1.5.0",
            "_model_name": "ProgressStyleModel",
            "_view_count": null,
            "_view_module": "@jupyter-widgets/base",
            "_view_module_version": "1.2.0",
            "_view_name": "StyleView",
            "bar_color": null,
            "description_width": ""
          }
        },
        "04f5540fc245405688436a49f87cfb2e": {
          "model_module": "@jupyter-widgets/controls",
          "model_module_version": "1.5.0",
          "model_name": "HTMLModel",
          "state": {
            "_dom_classes": [],
            "_model_module": "@jupyter-widgets/controls",
            "_model_module_version": "1.5.0",
            "_model_name": "HTMLModel",
            "_view_count": null,
            "_view_module": "@jupyter-widgets/controls",
            "_view_module_version": "1.5.0",
            "_view_name": "HTMLView",
            "description": "",
            "description_tooltip": null,
            "layout": "IPY_MODEL_f768c4a707a74c6d8d4c0c8696d21693",
            "placeholder": "​",
            "style": "IPY_MODEL_b99efd5818a0449f87c5f9533b61f5dd",
            "value": "Downloading builder script: 100%"
          }
        },
        "09344db2a14545ccb3208ac1d7cb217f": {
          "model_module": "@jupyter-widgets/controls",
          "model_module_version": "1.5.0",
          "model_name": "HBoxModel",
          "state": {
            "_dom_classes": [],
            "_model_module": "@jupyter-widgets/controls",
            "_model_module_version": "1.5.0",
            "_model_name": "HBoxModel",
            "_view_count": null,
            "_view_module": "@jupyter-widgets/controls",
            "_view_module_version": "1.5.0",
            "_view_name": "HBoxView",
            "box_style": "",
            "children": [
              "IPY_MODEL_50e6c9274b464fd8be2cc371f45a0f3a",
              "IPY_MODEL_4910c7b24b1e4dcebb3efb5decb6a5d8",
              "IPY_MODEL_5cc7a9fa75094929b309c89cce8df6ee"
            ],
            "layout": "IPY_MODEL_ab80fc14647946a19d9039db623df8c8"
          }
        },
        "09384d7f9791464394de8f449df6b823": {
          "model_module": "@jupyter-widgets/base",
          "model_module_version": "1.2.0",
          "model_name": "LayoutModel",
          "state": {
            "_model_module": "@jupyter-widgets/base",
            "_model_module_version": "1.2.0",
            "_model_name": "LayoutModel",
            "_view_count": null,
            "_view_module": "@jupyter-widgets/base",
            "_view_module_version": "1.2.0",
            "_view_name": "LayoutView",
            "align_content": null,
            "align_items": null,
            "align_self": null,
            "border": null,
            "bottom": null,
            "display": null,
            "flex": null,
            "flex_flow": null,
            "grid_area": null,
            "grid_auto_columns": null,
            "grid_auto_flow": null,
            "grid_auto_rows": null,
            "grid_column": null,
            "grid_gap": null,
            "grid_row": null,
            "grid_template_areas": null,
            "grid_template_columns": null,
            "grid_template_rows": null,
            "height": null,
            "justify_content": null,
            "justify_items": null,
            "left": null,
            "margin": null,
            "max_height": null,
            "max_width": null,
            "min_height": null,
            "min_width": null,
            "object_fit": null,
            "object_position": null,
            "order": null,
            "overflow": null,
            "overflow_x": null,
            "overflow_y": null,
            "padding": null,
            "right": null,
            "top": null,
            "visibility": null,
            "width": null
          }
        },
        "0cdde080537c4f5aaa6039ca2ab68fe0": {
          "model_module": "@jupyter-widgets/controls",
          "model_module_version": "1.5.0",
          "model_name": "DescriptionStyleModel",
          "state": {
            "_model_module": "@jupyter-widgets/controls",
            "_model_module_version": "1.5.0",
            "_model_name": "DescriptionStyleModel",
            "_view_count": null,
            "_view_module": "@jupyter-widgets/base",
            "_view_module_version": "1.2.0",
            "_view_name": "StyleView",
            "description_width": ""
          }
        },
        "11d8b17320dd42818a7b20011eef941b": {
          "model_module": "@jupyter-widgets/controls",
          "model_module_version": "1.5.0",
          "model_name": "DescriptionStyleModel",
          "state": {
            "_model_module": "@jupyter-widgets/controls",
            "_model_module_version": "1.5.0",
            "_model_name": "DescriptionStyleModel",
            "_view_count": null,
            "_view_module": "@jupyter-widgets/base",
            "_view_module_version": "1.2.0",
            "_view_name": "StyleView",
            "description_width": ""
          }
        },
        "156b3e0178bc402c9f7076bf9770f511": {
          "model_module": "@jupyter-widgets/base",
          "model_module_version": "1.2.0",
          "model_name": "LayoutModel",
          "state": {
            "_model_module": "@jupyter-widgets/base",
            "_model_module_version": "1.2.0",
            "_model_name": "LayoutModel",
            "_view_count": null,
            "_view_module": "@jupyter-widgets/base",
            "_view_module_version": "1.2.0",
            "_view_name": "LayoutView",
            "align_content": null,
            "align_items": null,
            "align_self": null,
            "border": null,
            "bottom": null,
            "display": null,
            "flex": null,
            "flex_flow": null,
            "grid_area": null,
            "grid_auto_columns": null,
            "grid_auto_flow": null,
            "grid_auto_rows": null,
            "grid_column": null,
            "grid_gap": null,
            "grid_row": null,
            "grid_template_areas": null,
            "grid_template_columns": null,
            "grid_template_rows": null,
            "height": null,
            "justify_content": null,
            "justify_items": null,
            "left": null,
            "margin": null,
            "max_height": null,
            "max_width": null,
            "min_height": null,
            "min_width": null,
            "object_fit": null,
            "object_position": null,
            "order": null,
            "overflow": null,
            "overflow_x": null,
            "overflow_y": null,
            "padding": null,
            "right": null,
            "top": null,
            "visibility": null,
            "width": null
          }
        },
        "186f6aa6c1234a64b53a036a6ec63a01": {
          "model_module": "@jupyter-widgets/controls",
          "model_module_version": "1.5.0",
          "model_name": "DescriptionStyleModel",
          "state": {
            "_model_module": "@jupyter-widgets/controls",
            "_model_module_version": "1.5.0",
            "_model_name": "DescriptionStyleModel",
            "_view_count": null,
            "_view_module": "@jupyter-widgets/base",
            "_view_module_version": "1.2.0",
            "_view_name": "StyleView",
            "description_width": ""
          }
        },
        "21c0b8680cc749fea2e7cb038bf90a32": {
          "model_module": "@jupyter-widgets/base",
          "model_module_version": "1.2.0",
          "model_name": "LayoutModel",
          "state": {
            "_model_module": "@jupyter-widgets/base",
            "_model_module_version": "1.2.0",
            "_model_name": "LayoutModel",
            "_view_count": null,
            "_view_module": "@jupyter-widgets/base",
            "_view_module_version": "1.2.0",
            "_view_name": "LayoutView",
            "align_content": null,
            "align_items": null,
            "align_self": null,
            "border": null,
            "bottom": null,
            "display": null,
            "flex": null,
            "flex_flow": null,
            "grid_area": null,
            "grid_auto_columns": null,
            "grid_auto_flow": null,
            "grid_auto_rows": null,
            "grid_column": null,
            "grid_gap": null,
            "grid_row": null,
            "grid_template_areas": null,
            "grid_template_columns": null,
            "grid_template_rows": null,
            "height": null,
            "justify_content": null,
            "justify_items": null,
            "left": null,
            "margin": null,
            "max_height": null,
            "max_width": null,
            "min_height": null,
            "min_width": null,
            "object_fit": null,
            "object_position": null,
            "order": null,
            "overflow": null,
            "overflow_x": null,
            "overflow_y": null,
            "padding": null,
            "right": null,
            "top": null,
            "visibility": null,
            "width": null
          }
        },
        "23ae0d1208be4bdc9084c4a7d6f72ad2": {
          "model_module": "@jupyter-widgets/controls",
          "model_module_version": "1.5.0",
          "model_name": "HTMLModel",
          "state": {
            "_dom_classes": [],
            "_model_module": "@jupyter-widgets/controls",
            "_model_module_version": "1.5.0",
            "_model_name": "HTMLModel",
            "_view_count": null,
            "_view_module": "@jupyter-widgets/controls",
            "_view_module_version": "1.5.0",
            "_view_name": "HTMLView",
            "description": "",
            "description_tooltip": null,
            "layout": "IPY_MODEL_09384d7f9791464394de8f449df6b823",
            "placeholder": "​",
            "style": "IPY_MODEL_01122bcc428e4d92b33b287dae349ccb",
            "value": " 1/1 [00:00&lt;00:00, 20.30it/s]"
          }
        },
        "2898db7e19b84b0db497ebff7717995e": {
          "model_module": "@jupyter-widgets/base",
          "model_module_version": "1.2.0",
          "model_name": "LayoutModel",
          "state": {
            "_model_module": "@jupyter-widgets/base",
            "_model_module_version": "1.2.0",
            "_model_name": "LayoutModel",
            "_view_count": null,
            "_view_module": "@jupyter-widgets/base",
            "_view_module_version": "1.2.0",
            "_view_name": "LayoutView",
            "align_content": null,
            "align_items": null,
            "align_self": null,
            "border": null,
            "bottom": null,
            "display": null,
            "flex": null,
            "flex_flow": null,
            "grid_area": null,
            "grid_auto_columns": null,
            "grid_auto_flow": null,
            "grid_auto_rows": null,
            "grid_column": null,
            "grid_gap": null,
            "grid_row": null,
            "grid_template_areas": null,
            "grid_template_columns": null,
            "grid_template_rows": null,
            "height": null,
            "justify_content": null,
            "justify_items": null,
            "left": null,
            "margin": null,
            "max_height": null,
            "max_width": null,
            "min_height": null,
            "min_width": null,
            "object_fit": null,
            "object_position": null,
            "order": null,
            "overflow": null,
            "overflow_x": null,
            "overflow_y": null,
            "padding": null,
            "right": null,
            "top": null,
            "visibility": null,
            "width": null
          }
        },
        "2af19ff365fd46f98b8e53b895b3f6a4": {
          "model_module": "@jupyter-widgets/controls",
          "model_module_version": "1.5.0",
          "model_name": "ProgressStyleModel",
          "state": {
            "_model_module": "@jupyter-widgets/controls",
            "_model_module_version": "1.5.0",
            "_model_name": "ProgressStyleModel",
            "_view_count": null,
            "_view_module": "@jupyter-widgets/base",
            "_view_module_version": "1.2.0",
            "_view_name": "StyleView",
            "bar_color": null,
            "description_width": ""
          }
        },
        "2c0160ea8b3a42e58ddd6856ddab0d8e": {
          "model_module": "@jupyter-widgets/base",
          "model_module_version": "1.2.0",
          "model_name": "LayoutModel",
          "state": {
            "_model_module": "@jupyter-widgets/base",
            "_model_module_version": "1.2.0",
            "_model_name": "LayoutModel",
            "_view_count": null,
            "_view_module": "@jupyter-widgets/base",
            "_view_module_version": "1.2.0",
            "_view_name": "LayoutView",
            "align_content": null,
            "align_items": null,
            "align_self": null,
            "border": null,
            "bottom": null,
            "display": null,
            "flex": null,
            "flex_flow": null,
            "grid_area": null,
            "grid_auto_columns": null,
            "grid_auto_flow": null,
            "grid_auto_rows": null,
            "grid_column": null,
            "grid_gap": null,
            "grid_row": null,
            "grid_template_areas": null,
            "grid_template_columns": null,
            "grid_template_rows": null,
            "height": null,
            "justify_content": null,
            "justify_items": null,
            "left": null,
            "margin": null,
            "max_height": null,
            "max_width": null,
            "min_height": null,
            "min_width": null,
            "object_fit": null,
            "object_position": null,
            "order": null,
            "overflow": null,
            "overflow_x": null,
            "overflow_y": null,
            "padding": null,
            "right": null,
            "top": null,
            "visibility": null,
            "width": null
          }
        },
        "35449ae03b22462ca7d967a43aab3e24": {
          "model_module": "@jupyter-widgets/controls",
          "model_module_version": "1.5.0",
          "model_name": "HTMLModel",
          "state": {
            "_dom_classes": [],
            "_model_module": "@jupyter-widgets/controls",
            "_model_module_version": "1.5.0",
            "_model_name": "HTMLModel",
            "_view_count": null,
            "_view_module": "@jupyter-widgets/controls",
            "_view_module_version": "1.5.0",
            "_view_name": "HTMLView",
            "description": "",
            "description_tooltip": null,
            "layout": "IPY_MODEL_3e2a5aa8cbcf444cb071770d75025755",
            "placeholder": "​",
            "style": "IPY_MODEL_d06c2f1623d94d79bbc45fbfac0578da",
            "value": "Downloading readme: 100%"
          }
        },
        "3a45de1840ce4377b62b1caa58b069c5": {
          "model_module": "@jupyter-widgets/controls",
          "model_module_version": "1.5.0",
          "model_name": "FloatProgressModel",
          "state": {
            "_dom_classes": [],
            "_model_module": "@jupyter-widgets/controls",
            "_model_module_version": "1.5.0",
            "_model_name": "FloatProgressModel",
            "_view_count": null,
            "_view_module": "@jupyter-widgets/controls",
            "_view_module_version": "1.5.0",
            "_view_name": "ProgressView",
            "bar_style": "success",
            "description": "",
            "description_tooltip": null,
            "layout": "IPY_MODEL_c2c3b02ec0a14712b44a038cee1fdb4d",
            "max": 1,
            "min": 0,
            "orientation": "horizontal",
            "style": "IPY_MODEL_033dbc5008c045ca841d1834f513efbd",
            "value": 1
          }
        },
        "3e2a5aa8cbcf444cb071770d75025755": {
          "model_module": "@jupyter-widgets/base",
          "model_module_version": "1.2.0",
          "model_name": "LayoutModel",
          "state": {
            "_model_module": "@jupyter-widgets/base",
            "_model_module_version": "1.2.0",
            "_model_name": "LayoutModel",
            "_view_count": null,
            "_view_module": "@jupyter-widgets/base",
            "_view_module_version": "1.2.0",
            "_view_name": "LayoutView",
            "align_content": null,
            "align_items": null,
            "align_self": null,
            "border": null,
            "bottom": null,
            "display": null,
            "flex": null,
            "flex_flow": null,
            "grid_area": null,
            "grid_auto_columns": null,
            "grid_auto_flow": null,
            "grid_auto_rows": null,
            "grid_column": null,
            "grid_gap": null,
            "grid_row": null,
            "grid_template_areas": null,
            "grid_template_columns": null,
            "grid_template_rows": null,
            "height": null,
            "justify_content": null,
            "justify_items": null,
            "left": null,
            "margin": null,
            "max_height": null,
            "max_width": null,
            "min_height": null,
            "min_width": null,
            "object_fit": null,
            "object_position": null,
            "order": null,
            "overflow": null,
            "overflow_x": null,
            "overflow_y": null,
            "padding": null,
            "right": null,
            "top": null,
            "visibility": null,
            "width": null
          }
        },
        "3e7fb38b77974a2197c4dc8ef5d4cd4b": {
          "model_module": "@jupyter-widgets/base",
          "model_module_version": "1.2.0",
          "model_name": "LayoutModel",
          "state": {
            "_model_module": "@jupyter-widgets/base",
            "_model_module_version": "1.2.0",
            "_model_name": "LayoutModel",
            "_view_count": null,
            "_view_module": "@jupyter-widgets/base",
            "_view_module_version": "1.2.0",
            "_view_name": "LayoutView",
            "align_content": null,
            "align_items": null,
            "align_self": null,
            "border": null,
            "bottom": null,
            "display": null,
            "flex": null,
            "flex_flow": null,
            "grid_area": null,
            "grid_auto_columns": null,
            "grid_auto_flow": null,
            "grid_auto_rows": null,
            "grid_column": null,
            "grid_gap": null,
            "grid_row": null,
            "grid_template_areas": null,
            "grid_template_columns": null,
            "grid_template_rows": null,
            "height": null,
            "justify_content": null,
            "justify_items": null,
            "left": null,
            "margin": null,
            "max_height": null,
            "max_width": null,
            "min_height": null,
            "min_width": null,
            "object_fit": null,
            "object_position": null,
            "order": null,
            "overflow": null,
            "overflow_x": null,
            "overflow_y": null,
            "padding": null,
            "right": null,
            "top": null,
            "visibility": null,
            "width": null
          }
        },
        "480e0896687b4057b8683b8ff492854c": {
          "model_module": "@jupyter-widgets/base",
          "model_module_version": "1.2.0",
          "model_name": "LayoutModel",
          "state": {
            "_model_module": "@jupyter-widgets/base",
            "_model_module_version": "1.2.0",
            "_model_name": "LayoutModel",
            "_view_count": null,
            "_view_module": "@jupyter-widgets/base",
            "_view_module_version": "1.2.0",
            "_view_name": "LayoutView",
            "align_content": null,
            "align_items": null,
            "align_self": null,
            "border": null,
            "bottom": null,
            "display": null,
            "flex": null,
            "flex_flow": null,
            "grid_area": null,
            "grid_auto_columns": null,
            "grid_auto_flow": null,
            "grid_auto_rows": null,
            "grid_column": null,
            "grid_gap": null,
            "grid_row": null,
            "grid_template_areas": null,
            "grid_template_columns": null,
            "grid_template_rows": null,
            "height": null,
            "justify_content": null,
            "justify_items": null,
            "left": null,
            "margin": null,
            "max_height": null,
            "max_width": null,
            "min_height": null,
            "min_width": null,
            "object_fit": null,
            "object_position": null,
            "order": null,
            "overflow": null,
            "overflow_x": null,
            "overflow_y": null,
            "padding": null,
            "right": null,
            "top": null,
            "visibility": null,
            "width": null
          }
        },
        "4910c7b24b1e4dcebb3efb5decb6a5d8": {
          "model_module": "@jupyter-widgets/controls",
          "model_module_version": "1.5.0",
          "model_name": "FloatProgressModel",
          "state": {
            "_dom_classes": [],
            "_model_module": "@jupyter-widgets/controls",
            "_model_module_version": "1.5.0",
            "_model_name": "FloatProgressModel",
            "_view_count": null,
            "_view_module": "@jupyter-widgets/controls",
            "_view_module_version": "1.5.0",
            "_view_name": "ProgressView",
            "bar_style": "success",
            "description": "",
            "description_tooltip": null,
            "layout": "IPY_MODEL_baf9b328a620430ebdfd84ee168b374b",
            "max": 235072360,
            "min": 0,
            "orientation": "horizontal",
            "style": "IPY_MODEL_d7da178a17df4656998a37ccb0600332",
            "value": 235072360
          }
        },
        "500b4ccbd201471a87313ce4b3a09cda": {
          "model_module": "@jupyter-widgets/controls",
          "model_module_version": "1.5.0",
          "model_name": "ProgressStyleModel",
          "state": {
            "_model_module": "@jupyter-widgets/controls",
            "_model_module_version": "1.5.0",
            "_model_name": "ProgressStyleModel",
            "_view_count": null,
            "_view_module": "@jupyter-widgets/base",
            "_view_module_version": "1.2.0",
            "_view_name": "StyleView",
            "bar_color": null,
            "description_width": ""
          }
        },
        "50812d3dfb18452aa55a3a85a375c952": {
          "model_module": "@jupyter-widgets/base",
          "model_module_version": "1.2.0",
          "model_name": "LayoutModel",
          "state": {
            "_model_module": "@jupyter-widgets/base",
            "_model_module_version": "1.2.0",
            "_model_name": "LayoutModel",
            "_view_count": null,
            "_view_module": "@jupyter-widgets/base",
            "_view_module_version": "1.2.0",
            "_view_name": "LayoutView",
            "align_content": null,
            "align_items": null,
            "align_self": null,
            "border": null,
            "bottom": null,
            "display": null,
            "flex": null,
            "flex_flow": null,
            "grid_area": null,
            "grid_auto_columns": null,
            "grid_auto_flow": null,
            "grid_auto_rows": null,
            "grid_column": null,
            "grid_gap": null,
            "grid_row": null,
            "grid_template_areas": null,
            "grid_template_columns": null,
            "grid_template_rows": null,
            "height": null,
            "justify_content": null,
            "justify_items": null,
            "left": null,
            "margin": null,
            "max_height": null,
            "max_width": null,
            "min_height": null,
            "min_width": null,
            "object_fit": null,
            "object_position": null,
            "order": null,
            "overflow": null,
            "overflow_x": null,
            "overflow_y": null,
            "padding": null,
            "right": null,
            "top": null,
            "visibility": null,
            "width": null
          }
        },
        "50e6c9274b464fd8be2cc371f45a0f3a": {
          "model_module": "@jupyter-widgets/controls",
          "model_module_version": "1.5.0",
          "model_name": "HTMLModel",
          "state": {
            "_dom_classes": [],
            "_model_module": "@jupyter-widgets/controls",
            "_model_module_version": "1.5.0",
            "_model_name": "HTMLModel",
            "_view_count": null,
            "_view_module": "@jupyter-widgets/controls",
            "_view_module_version": "1.5.0",
            "_view_name": "HTMLView",
            "description": "",
            "description_tooltip": null,
            "layout": "IPY_MODEL_c757bf449d65434391d4e03b6229a42c",
            "placeholder": "​",
            "style": "IPY_MODEL_0cdde080537c4f5aaa6039ca2ab68fe0",
            "value": "Downloading: 100%"
          }
        },
        "535b5a849899443f8b59f569137e24c6": {
          "model_module": "@jupyter-widgets/controls",
          "model_module_version": "1.5.0",
          "model_name": "HTMLModel",
          "state": {
            "_dom_classes": [],
            "_model_module": "@jupyter-widgets/controls",
            "_model_module_version": "1.5.0",
            "_model_name": "HTMLModel",
            "_view_count": null,
            "_view_module": "@jupyter-widgets/controls",
            "_view_module_version": "1.5.0",
            "_view_name": "HTMLView",
            "description": "",
            "description_tooltip": null,
            "layout": "IPY_MODEL_6c20aeda903c418aaf16602cc718415b",
            "placeholder": "​",
            "style": "IPY_MODEL_db49b06dacfd476b904e1172263248eb",
            "value": " 16.3k/16.3k [00:00&lt;00:00, 881kB/s]"
          }
        },
        "55424fa2e06b4df28240578688250369": {
          "model_module": "@jupyter-widgets/controls",
          "model_module_version": "1.5.0",
          "model_name": "HBoxModel",
          "state": {
            "_dom_classes": [],
            "_model_module": "@jupyter-widgets/controls",
            "_model_module_version": "1.5.0",
            "_model_name": "HBoxModel",
            "_view_count": null,
            "_view_module": "@jupyter-widgets/controls",
            "_view_module_version": "1.5.0",
            "_view_name": "HBoxView",
            "box_style": "",
            "children": [
              "IPY_MODEL_35449ae03b22462ca7d967a43aab3e24",
              "IPY_MODEL_744a2304acb1422396be3ae608c08399",
              "IPY_MODEL_535b5a849899443f8b59f569137e24c6"
            ],
            "layout": "IPY_MODEL_21c0b8680cc749fea2e7cb038bf90a32"
          }
        },
        "5a44d17df3714c1eb112b7f99e6283cc": {
          "model_module": "@jupyter-widgets/controls",
          "model_module_version": "1.5.0",
          "model_name": "FloatProgressModel",
          "state": {
            "_dom_classes": [],
            "_model_module": "@jupyter-widgets/controls",
            "_model_module_version": "1.5.0",
            "_model_name": "FloatProgressModel",
            "_view_count": null,
            "_view_module": "@jupyter-widgets/controls",
            "_view_module_version": "1.5.0",
            "_view_name": "ProgressView",
            "bar_style": "success",
            "description": "",
            "description_tooltip": null,
            "layout": "IPY_MODEL_2c0160ea8b3a42e58ddd6856ddab0d8e",
            "max": 30394,
            "min": 0,
            "orientation": "horizontal",
            "style": "IPY_MODEL_2af19ff365fd46f98b8e53b895b3f6a4",
            "value": 30394
          }
        },
        "5cc7a9fa75094929b309c89cce8df6ee": {
          "model_module": "@jupyter-widgets/controls",
          "model_module_version": "1.5.0",
          "model_name": "HTMLModel",
          "state": {
            "_dom_classes": [],
            "_model_module": "@jupyter-widgets/controls",
            "_model_module_version": "1.5.0",
            "_model_name": "HTMLModel",
            "_view_count": null,
            "_view_module": "@jupyter-widgets/controls",
            "_view_module_version": "1.5.0",
            "_view_name": "HTMLView",
            "description": "",
            "description_tooltip": null,
            "layout": "IPY_MODEL_d5eddd816748421a8dd3220a7a2270a3",
            "placeholder": "​",
            "style": "IPY_MODEL_11d8b17320dd42818a7b20011eef941b",
            "value": " 235M/235M [00:15&lt;00:00, 15.6MB/s]"
          }
        },
        "60f89e5ce16345a9be0b4f9ee2f4af72": {
          "model_module": "@jupyter-widgets/controls",
          "model_module_version": "1.5.0",
          "model_name": "DescriptionStyleModel",
          "state": {
            "_model_module": "@jupyter-widgets/controls",
            "_model_module_version": "1.5.0",
            "_model_name": "DescriptionStyleModel",
            "_view_count": null,
            "_view_module": "@jupyter-widgets/base",
            "_view_module_version": "1.2.0",
            "_view_name": "StyleView",
            "description_width": ""
          }
        },
        "62d0f6c001b64dfcad5b67cd9a3a3694": {
          "model_module": "@jupyter-widgets/controls",
          "model_module_version": "1.5.0",
          "model_name": "HTMLModel",
          "state": {
            "_dom_classes": [],
            "_model_module": "@jupyter-widgets/controls",
            "_model_module_version": "1.5.0",
            "_model_name": "HTMLModel",
            "_view_count": null,
            "_view_module": "@jupyter-widgets/controls",
            "_view_module_version": "1.5.0",
            "_view_name": "HTMLView",
            "description": "",
            "description_tooltip": null,
            "layout": "IPY_MODEL_d6d36d96bd9d474aa42fbc0062c29503",
            "placeholder": "​",
            "style": "IPY_MODEL_186f6aa6c1234a64b53a036a6ec63a01",
            "value": " 30.4k/30.4k [00:00&lt;00:00, 1.75MB/s]"
          }
        },
        "6955543bb63a43c596a84bb97e23c56d": {
          "model_module": "@jupyter-widgets/controls",
          "model_module_version": "1.5.0",
          "model_name": "DescriptionStyleModel",
          "state": {
            "_model_module": "@jupyter-widgets/controls",
            "_model_module_version": "1.5.0",
            "_model_name": "DescriptionStyleModel",
            "_view_count": null,
            "_view_module": "@jupyter-widgets/base",
            "_view_module_version": "1.2.0",
            "_view_name": "StyleView",
            "description_width": ""
          }
        },
        "6c20aeda903c418aaf16602cc718415b": {
          "model_module": "@jupyter-widgets/base",
          "model_module_version": "1.2.0",
          "model_name": "LayoutModel",
          "state": {
            "_model_module": "@jupyter-widgets/base",
            "_model_module_version": "1.2.0",
            "_model_name": "LayoutModel",
            "_view_count": null,
            "_view_module": "@jupyter-widgets/base",
            "_view_module_version": "1.2.0",
            "_view_name": "LayoutView",
            "align_content": null,
            "align_items": null,
            "align_self": null,
            "border": null,
            "bottom": null,
            "display": null,
            "flex": null,
            "flex_flow": null,
            "grid_area": null,
            "grid_auto_columns": null,
            "grid_auto_flow": null,
            "grid_auto_rows": null,
            "grid_column": null,
            "grid_gap": null,
            "grid_row": null,
            "grid_template_areas": null,
            "grid_template_columns": null,
            "grid_template_rows": null,
            "height": null,
            "justify_content": null,
            "justify_items": null,
            "left": null,
            "margin": null,
            "max_height": null,
            "max_width": null,
            "min_height": null,
            "min_width": null,
            "object_fit": null,
            "object_position": null,
            "order": null,
            "overflow": null,
            "overflow_x": null,
            "overflow_y": null,
            "padding": null,
            "right": null,
            "top": null,
            "visibility": null,
            "width": null
          }
        },
        "71e4da671c3a4f7e8d2f52263d410b87": {
          "model_module": "@jupyter-widgets/controls",
          "model_module_version": "1.5.0",
          "model_name": "ProgressStyleModel",
          "state": {
            "_model_module": "@jupyter-widgets/controls",
            "_model_module_version": "1.5.0",
            "_model_name": "ProgressStyleModel",
            "_view_count": null,
            "_view_module": "@jupyter-widgets/base",
            "_view_module_version": "1.2.0",
            "_view_name": "StyleView",
            "bar_color": null,
            "description_width": ""
          }
        },
        "744a2304acb1422396be3ae608c08399": {
          "model_module": "@jupyter-widgets/controls",
          "model_module_version": "1.5.0",
          "model_name": "FloatProgressModel",
          "state": {
            "_dom_classes": [],
            "_model_module": "@jupyter-widgets/controls",
            "_model_module_version": "1.5.0",
            "_model_name": "FloatProgressModel",
            "_view_count": null,
            "_view_module": "@jupyter-widgets/controls",
            "_view_module_version": "1.5.0",
            "_view_name": "ProgressView",
            "bar_style": "success",
            "description": "",
            "description_tooltip": null,
            "layout": "IPY_MODEL_3e7fb38b77974a2197c4dc8ef5d4cd4b",
            "max": 16258,
            "min": 0,
            "orientation": "horizontal",
            "style": "IPY_MODEL_71e4da671c3a4f7e8d2f52263d410b87",
            "value": 16258
          }
        },
        "7d410da3de4e4269928f418d55c9013c": {
          "model_module": "@jupyter-widgets/base",
          "model_module_version": "1.2.0",
          "model_name": "LayoutModel",
          "state": {
            "_model_module": "@jupyter-widgets/base",
            "_model_module_version": "1.2.0",
            "_model_name": "LayoutModel",
            "_view_count": null,
            "_view_module": "@jupyter-widgets/base",
            "_view_module_version": "1.2.0",
            "_view_name": "LayoutView",
            "align_content": null,
            "align_items": null,
            "align_self": null,
            "border": null,
            "bottom": null,
            "display": null,
            "flex": null,
            "flex_flow": null,
            "grid_area": null,
            "grid_auto_columns": null,
            "grid_auto_flow": null,
            "grid_auto_rows": null,
            "grid_column": null,
            "grid_gap": null,
            "grid_row": null,
            "grid_template_areas": null,
            "grid_template_columns": null,
            "grid_template_rows": null,
            "height": null,
            "justify_content": null,
            "justify_items": null,
            "left": null,
            "margin": null,
            "max_height": null,
            "max_width": null,
            "min_height": null,
            "min_width": null,
            "object_fit": null,
            "object_position": null,
            "order": null,
            "overflow": null,
            "overflow_x": null,
            "overflow_y": null,
            "padding": null,
            "right": null,
            "top": null,
            "visibility": null,
            "width": null
          }
        },
        "7e65f104c26d4fbab42948d90cee1e9a": {
          "model_module": "@jupyter-widgets/controls",
          "model_module_version": "1.5.0",
          "model_name": "HBoxModel",
          "state": {
            "_dom_classes": [],
            "_model_module": "@jupyter-widgets/controls",
            "_model_module_version": "1.5.0",
            "_model_name": "HBoxModel",
            "_view_count": null,
            "_view_module": "@jupyter-widgets/controls",
            "_view_module_version": "1.5.0",
            "_view_name": "HBoxView",
            "box_style": "",
            "children": [
              "IPY_MODEL_04f5540fc245405688436a49f87cfb2e",
              "IPY_MODEL_7e8161c2bf9f4b9d8e90f227e78d2233",
              "IPY_MODEL_8cd8a01149eb4c59b0003f9094ca4047"
            ],
            "layout": "IPY_MODEL_8c0eb60296604b5e9c2b5154f679b674"
          }
        },
        "7e8161c2bf9f4b9d8e90f227e78d2233": {
          "model_module": "@jupyter-widgets/controls",
          "model_module_version": "1.5.0",
          "model_name": "FloatProgressModel",
          "state": {
            "_dom_classes": [],
            "_model_module": "@jupyter-widgets/controls",
            "_model_module_version": "1.5.0",
            "_model_name": "FloatProgressModel",
            "_view_count": null,
            "_view_module": "@jupyter-widgets/controls",
            "_view_module_version": "1.5.0",
            "_view_name": "ProgressView",
            "bar_style": "success",
            "description": "",
            "description_tooltip": null,
            "layout": "IPY_MODEL_a4f50377f00244eaaddffd67f0d4b2e4",
            "max": 35871,
            "min": 0,
            "orientation": "horizontal",
            "style": "IPY_MODEL_500b4ccbd201471a87313ce4b3a09cda",
            "value": 35871
          }
        },
        "8c0eb60296604b5e9c2b5154f679b674": {
          "model_module": "@jupyter-widgets/base",
          "model_module_version": "1.2.0",
          "model_name": "LayoutModel",
          "state": {
            "_model_module": "@jupyter-widgets/base",
            "_model_module_version": "1.2.0",
            "_model_name": "LayoutModel",
            "_view_count": null,
            "_view_module": "@jupyter-widgets/base",
            "_view_module_version": "1.2.0",
            "_view_name": "LayoutView",
            "align_content": null,
            "align_items": null,
            "align_self": null,
            "border": null,
            "bottom": null,
            "display": null,
            "flex": null,
            "flex_flow": null,
            "grid_area": null,
            "grid_auto_columns": null,
            "grid_auto_flow": null,
            "grid_auto_rows": null,
            "grid_column": null,
            "grid_gap": null,
            "grid_row": null,
            "grid_template_areas": null,
            "grid_template_columns": null,
            "grid_template_rows": null,
            "height": null,
            "justify_content": null,
            "justify_items": null,
            "left": null,
            "margin": null,
            "max_height": null,
            "max_width": null,
            "min_height": null,
            "min_width": null,
            "object_fit": null,
            "object_position": null,
            "order": null,
            "overflow": null,
            "overflow_x": null,
            "overflow_y": null,
            "padding": null,
            "right": null,
            "top": null,
            "visibility": null,
            "width": null
          }
        },
        "8cd8a01149eb4c59b0003f9094ca4047": {
          "model_module": "@jupyter-widgets/controls",
          "model_module_version": "1.5.0",
          "model_name": "HTMLModel",
          "state": {
            "_dom_classes": [],
            "_model_module": "@jupyter-widgets/controls",
            "_model_module_version": "1.5.0",
            "_model_name": "HTMLModel",
            "_view_count": null,
            "_view_module": "@jupyter-widgets/controls",
            "_view_module_version": "1.5.0",
            "_view_name": "HTMLView",
            "description": "",
            "description_tooltip": null,
            "layout": "IPY_MODEL_480e0896687b4057b8683b8ff492854c",
            "placeholder": "​",
            "style": "IPY_MODEL_60f89e5ce16345a9be0b4f9ee2f4af72",
            "value": " 35.9k/35.9k [00:00&lt;00:00, 129kB/s]"
          }
        },
        "938a415b6a384b78ab146dacabc837ec": {
          "model_module": "@jupyter-widgets/controls",
          "model_module_version": "1.5.0",
          "model_name": "DescriptionStyleModel",
          "state": {
            "_model_module": "@jupyter-widgets/controls",
            "_model_module_version": "1.5.0",
            "_model_name": "DescriptionStyleModel",
            "_view_count": null,
            "_view_module": "@jupyter-widgets/base",
            "_view_module_version": "1.2.0",
            "_view_name": "StyleView",
            "description_width": ""
          }
        },
        "a08228c1de474f5ab8e30c16456650d4": {
          "model_module": "@jupyter-widgets/controls",
          "model_module_version": "1.5.0",
          "model_name": "HBoxModel",
          "state": {
            "_dom_classes": [],
            "_model_module": "@jupyter-widgets/controls",
            "_model_module_version": "1.5.0",
            "_model_name": "HBoxModel",
            "_view_count": null,
            "_view_module": "@jupyter-widgets/controls",
            "_view_module_version": "1.5.0",
            "_view_name": "HBoxView",
            "box_style": "",
            "children": [
              "IPY_MODEL_b730f5781c0f4cf39bf5274ed7047b27",
              "IPY_MODEL_a809636ed86f4307a9b57d4912c99dcd",
              "IPY_MODEL_cbd1fc78436a479b9459457e168c1871"
            ],
            "layout": "IPY_MODEL_d472a00c17f449fb82b1b05fc7b3d2eb"
          }
        },
        "a1bdfb3177da4bb9941fc8b540b22c73": {
          "model_module": "@jupyter-widgets/controls",
          "model_module_version": "1.5.0",
          "model_name": "HTMLModel",
          "state": {
            "_dom_classes": [],
            "_model_module": "@jupyter-widgets/controls",
            "_model_module_version": "1.5.0",
            "_model_name": "HTMLModel",
            "_view_count": null,
            "_view_module": "@jupyter-widgets/controls",
            "_view_module_version": "1.5.0",
            "_view_name": "HTMLView",
            "description": "",
            "description_tooltip": null,
            "layout": "IPY_MODEL_be8fd0a9771241e08bd12cdaf6cee31c",
            "placeholder": "​",
            "style": "IPY_MODEL_ed7bfe8f79324ffcb092cc86b44e4a9a",
            "value": "100%"
          }
        },
        "a4f50377f00244eaaddffd67f0d4b2e4": {
          "model_module": "@jupyter-widgets/base",
          "model_module_version": "1.2.0",
          "model_name": "LayoutModel",
          "state": {
            "_model_module": "@jupyter-widgets/base",
            "_model_module_version": "1.2.0",
            "_model_name": "LayoutModel",
            "_view_count": null,
            "_view_module": "@jupyter-widgets/base",
            "_view_module_version": "1.2.0",
            "_view_name": "LayoutView",
            "align_content": null,
            "align_items": null,
            "align_self": null,
            "border": null,
            "bottom": null,
            "display": null,
            "flex": null,
            "flex_flow": null,
            "grid_area": null,
            "grid_auto_columns": null,
            "grid_auto_flow": null,
            "grid_auto_rows": null,
            "grid_column": null,
            "grid_gap": null,
            "grid_row": null,
            "grid_template_areas": null,
            "grid_template_columns": null,
            "grid_template_rows": null,
            "height": null,
            "justify_content": null,
            "justify_items": null,
            "left": null,
            "margin": null,
            "max_height": null,
            "max_width": null,
            "min_height": null,
            "min_width": null,
            "object_fit": null,
            "object_position": null,
            "order": null,
            "overflow": null,
            "overflow_x": null,
            "overflow_y": null,
            "padding": null,
            "right": null,
            "top": null,
            "visibility": null,
            "width": null
          }
        },
        "a6d31b80434c4db4bfea86ac88f30cc1": {
          "model_module": "@jupyter-widgets/controls",
          "model_module_version": "1.5.0",
          "model_name": "HBoxModel",
          "state": {
            "_dom_classes": [],
            "_model_module": "@jupyter-widgets/controls",
            "_model_module_version": "1.5.0",
            "_model_name": "HBoxModel",
            "_view_count": null,
            "_view_module": "@jupyter-widgets/controls",
            "_view_module_version": "1.5.0",
            "_view_name": "HBoxView",
            "box_style": "",
            "children": [
              "IPY_MODEL_a1bdfb3177da4bb9941fc8b540b22c73",
              "IPY_MODEL_3a45de1840ce4377b62b1caa58b069c5",
              "IPY_MODEL_23ae0d1208be4bdc9084c4a7d6f72ad2"
            ],
            "layout": "IPY_MODEL_50812d3dfb18452aa55a3a85a375c952"
          }
        },
        "a809636ed86f4307a9b57d4912c99dcd": {
          "model_module": "@jupyter-widgets/controls",
          "model_module_version": "1.5.0",
          "model_name": "FloatProgressModel",
          "state": {
            "_dom_classes": [],
            "_model_module": "@jupyter-widgets/controls",
            "_model_module_version": "1.5.0",
            "_model_name": "FloatProgressModel",
            "_view_count": null,
            "_view_module": "@jupyter-widgets/controls",
            "_view_module_version": "1.5.0",
            "_view_name": "ProgressView",
            "bar_style": "success",
            "description": "",
            "description_tooltip": null,
            "layout": "IPY_MODEL_e96ef9c002904870913390815212a5b2",
            "max": 1660,
            "min": 0,
            "orientation": "horizontal",
            "style": "IPY_MODEL_d65e8293ffb7485d832d5a7e0f66fb56",
            "value": 1660
          }
        },
        "ab80fc14647946a19d9039db623df8c8": {
          "model_module": "@jupyter-widgets/base",
          "model_module_version": "1.2.0",
          "model_name": "LayoutModel",
          "state": {
            "_model_module": "@jupyter-widgets/base",
            "_model_module_version": "1.2.0",
            "_model_name": "LayoutModel",
            "_view_count": null,
            "_view_module": "@jupyter-widgets/base",
            "_view_module_version": "1.2.0",
            "_view_name": "LayoutView",
            "align_content": null,
            "align_items": null,
            "align_self": null,
            "border": null,
            "bottom": null,
            "display": null,
            "flex": null,
            "flex_flow": null,
            "grid_area": null,
            "grid_auto_columns": null,
            "grid_auto_flow": null,
            "grid_auto_rows": null,
            "grid_column": null,
            "grid_gap": null,
            "grid_row": null,
            "grid_template_areas": null,
            "grid_template_columns": null,
            "grid_template_rows": null,
            "height": null,
            "justify_content": null,
            "justify_items": null,
            "left": null,
            "margin": null,
            "max_height": null,
            "max_width": null,
            "min_height": null,
            "min_width": null,
            "object_fit": null,
            "object_position": null,
            "order": null,
            "overflow": null,
            "overflow_x": null,
            "overflow_y": null,
            "padding": null,
            "right": null,
            "top": null,
            "visibility": null,
            "width": null
          }
        },
        "abbf064cf5b34bcbb624cc2fa455c441": {
          "model_module": "@jupyter-widgets/controls",
          "model_module_version": "1.5.0",
          "model_name": "DescriptionStyleModel",
          "state": {
            "_model_module": "@jupyter-widgets/controls",
            "_model_module_version": "1.5.0",
            "_model_name": "DescriptionStyleModel",
            "_view_count": null,
            "_view_module": "@jupyter-widgets/base",
            "_view_module_version": "1.2.0",
            "_view_name": "StyleView",
            "description_width": ""
          }
        },
        "ac0291d5b6ea4c20a1c1dd77cb0e0d22": {
          "model_module": "@jupyter-widgets/controls",
          "model_module_version": "1.5.0",
          "model_name": "HBoxModel",
          "state": {
            "_dom_classes": [],
            "_model_module": "@jupyter-widgets/controls",
            "_model_module_version": "1.5.0",
            "_model_name": "HBoxModel",
            "_view_count": null,
            "_view_module": "@jupyter-widgets/controls",
            "_view_module_version": "1.5.0",
            "_view_name": "HBoxView",
            "box_style": "",
            "children": [
              "IPY_MODEL_df3b119ae67b4805bae4fa86b900f1c0",
              "IPY_MODEL_5a44d17df3714c1eb112b7f99e6283cc",
              "IPY_MODEL_62d0f6c001b64dfcad5b67cd9a3a3694"
            ],
            "layout": "IPY_MODEL_bd1c56625722433e900bb33f052d9636"
          }
        },
        "b730f5781c0f4cf39bf5274ed7047b27": {
          "model_module": "@jupyter-widgets/controls",
          "model_module_version": "1.5.0",
          "model_name": "HTMLModel",
          "state": {
            "_dom_classes": [],
            "_model_module": "@jupyter-widgets/controls",
            "_model_module_version": "1.5.0",
            "_model_name": "HTMLModel",
            "_view_count": null,
            "_view_module": "@jupyter-widgets/controls",
            "_view_module_version": "1.5.0",
            "_view_name": "HTMLView",
            "description": "",
            "description_tooltip": null,
            "layout": "IPY_MODEL_2898db7e19b84b0db497ebff7717995e",
            "placeholder": "​",
            "style": "IPY_MODEL_938a415b6a384b78ab146dacabc837ec",
            "value": "Downloading: 100%"
          }
        },
        "b99efd5818a0449f87c5f9533b61f5dd": {
          "model_module": "@jupyter-widgets/controls",
          "model_module_version": "1.5.0",
          "model_name": "DescriptionStyleModel",
          "state": {
            "_model_module": "@jupyter-widgets/controls",
            "_model_module_version": "1.5.0",
            "_model_name": "DescriptionStyleModel",
            "_view_count": null,
            "_view_module": "@jupyter-widgets/base",
            "_view_module_version": "1.2.0",
            "_view_name": "StyleView",
            "description_width": ""
          }
        },
        "baf9b328a620430ebdfd84ee168b374b": {
          "model_module": "@jupyter-widgets/base",
          "model_module_version": "1.2.0",
          "model_name": "LayoutModel",
          "state": {
            "_model_module": "@jupyter-widgets/base",
            "_model_module_version": "1.2.0",
            "_model_name": "LayoutModel",
            "_view_count": null,
            "_view_module": "@jupyter-widgets/base",
            "_view_module_version": "1.2.0",
            "_view_name": "LayoutView",
            "align_content": null,
            "align_items": null,
            "align_self": null,
            "border": null,
            "bottom": null,
            "display": null,
            "flex": null,
            "flex_flow": null,
            "grid_area": null,
            "grid_auto_columns": null,
            "grid_auto_flow": null,
            "grid_auto_rows": null,
            "grid_column": null,
            "grid_gap": null,
            "grid_row": null,
            "grid_template_areas": null,
            "grid_template_columns": null,
            "grid_template_rows": null,
            "height": null,
            "justify_content": null,
            "justify_items": null,
            "left": null,
            "margin": null,
            "max_height": null,
            "max_width": null,
            "min_height": null,
            "min_width": null,
            "object_fit": null,
            "object_position": null,
            "order": null,
            "overflow": null,
            "overflow_x": null,
            "overflow_y": null,
            "padding": null,
            "right": null,
            "top": null,
            "visibility": null,
            "width": null
          }
        },
        "bd1c56625722433e900bb33f052d9636": {
          "model_module": "@jupyter-widgets/base",
          "model_module_version": "1.2.0",
          "model_name": "LayoutModel",
          "state": {
            "_model_module": "@jupyter-widgets/base",
            "_model_module_version": "1.2.0",
            "_model_name": "LayoutModel",
            "_view_count": null,
            "_view_module": "@jupyter-widgets/base",
            "_view_module_version": "1.2.0",
            "_view_name": "LayoutView",
            "align_content": null,
            "align_items": null,
            "align_self": null,
            "border": null,
            "bottom": null,
            "display": null,
            "flex": null,
            "flex_flow": null,
            "grid_area": null,
            "grid_auto_columns": null,
            "grid_auto_flow": null,
            "grid_auto_rows": null,
            "grid_column": null,
            "grid_gap": null,
            "grid_row": null,
            "grid_template_areas": null,
            "grid_template_columns": null,
            "grid_template_rows": null,
            "height": null,
            "justify_content": null,
            "justify_items": null,
            "left": null,
            "margin": null,
            "max_height": null,
            "max_width": null,
            "min_height": null,
            "min_width": null,
            "object_fit": null,
            "object_position": null,
            "order": null,
            "overflow": null,
            "overflow_x": null,
            "overflow_y": null,
            "padding": null,
            "right": null,
            "top": null,
            "visibility": null,
            "width": null
          }
        },
        "be8fd0a9771241e08bd12cdaf6cee31c": {
          "model_module": "@jupyter-widgets/base",
          "model_module_version": "1.2.0",
          "model_name": "LayoutModel",
          "state": {
            "_model_module": "@jupyter-widgets/base",
            "_model_module_version": "1.2.0",
            "_model_name": "LayoutModel",
            "_view_count": null,
            "_view_module": "@jupyter-widgets/base",
            "_view_module_version": "1.2.0",
            "_view_name": "LayoutView",
            "align_content": null,
            "align_items": null,
            "align_self": null,
            "border": null,
            "bottom": null,
            "display": null,
            "flex": null,
            "flex_flow": null,
            "grid_area": null,
            "grid_auto_columns": null,
            "grid_auto_flow": null,
            "grid_auto_rows": null,
            "grid_column": null,
            "grid_gap": null,
            "grid_row": null,
            "grid_template_areas": null,
            "grid_template_columns": null,
            "grid_template_rows": null,
            "height": null,
            "justify_content": null,
            "justify_items": null,
            "left": null,
            "margin": null,
            "max_height": null,
            "max_width": null,
            "min_height": null,
            "min_width": null,
            "object_fit": null,
            "object_position": null,
            "order": null,
            "overflow": null,
            "overflow_x": null,
            "overflow_y": null,
            "padding": null,
            "right": null,
            "top": null,
            "visibility": null,
            "width": null
          }
        },
        "c2c3b02ec0a14712b44a038cee1fdb4d": {
          "model_module": "@jupyter-widgets/base",
          "model_module_version": "1.2.0",
          "model_name": "LayoutModel",
          "state": {
            "_model_module": "@jupyter-widgets/base",
            "_model_module_version": "1.2.0",
            "_model_name": "LayoutModel",
            "_view_count": null,
            "_view_module": "@jupyter-widgets/base",
            "_view_module_version": "1.2.0",
            "_view_name": "LayoutView",
            "align_content": null,
            "align_items": null,
            "align_self": null,
            "border": null,
            "bottom": null,
            "display": null,
            "flex": null,
            "flex_flow": null,
            "grid_area": null,
            "grid_auto_columns": null,
            "grid_auto_flow": null,
            "grid_auto_rows": null,
            "grid_column": null,
            "grid_gap": null,
            "grid_row": null,
            "grid_template_areas": null,
            "grid_template_columns": null,
            "grid_template_rows": null,
            "height": null,
            "justify_content": null,
            "justify_items": null,
            "left": null,
            "margin": null,
            "max_height": null,
            "max_width": null,
            "min_height": null,
            "min_width": null,
            "object_fit": null,
            "object_position": null,
            "order": null,
            "overflow": null,
            "overflow_x": null,
            "overflow_y": null,
            "padding": null,
            "right": null,
            "top": null,
            "visibility": null,
            "width": null
          }
        },
        "c757bf449d65434391d4e03b6229a42c": {
          "model_module": "@jupyter-widgets/base",
          "model_module_version": "1.2.0",
          "model_name": "LayoutModel",
          "state": {
            "_model_module": "@jupyter-widgets/base",
            "_model_module_version": "1.2.0",
            "_model_name": "LayoutModel",
            "_view_count": null,
            "_view_module": "@jupyter-widgets/base",
            "_view_module_version": "1.2.0",
            "_view_name": "LayoutView",
            "align_content": null,
            "align_items": null,
            "align_self": null,
            "border": null,
            "bottom": null,
            "display": null,
            "flex": null,
            "flex_flow": null,
            "grid_area": null,
            "grid_auto_columns": null,
            "grid_auto_flow": null,
            "grid_auto_rows": null,
            "grid_column": null,
            "grid_gap": null,
            "grid_row": null,
            "grid_template_areas": null,
            "grid_template_columns": null,
            "grid_template_rows": null,
            "height": null,
            "justify_content": null,
            "justify_items": null,
            "left": null,
            "margin": null,
            "max_height": null,
            "max_width": null,
            "min_height": null,
            "min_width": null,
            "object_fit": null,
            "object_position": null,
            "order": null,
            "overflow": null,
            "overflow_x": null,
            "overflow_y": null,
            "padding": null,
            "right": null,
            "top": null,
            "visibility": null,
            "width": null
          }
        },
        "cbd1fc78436a479b9459457e168c1871": {
          "model_module": "@jupyter-widgets/controls",
          "model_module_version": "1.5.0",
          "model_name": "HTMLModel",
          "state": {
            "_dom_classes": [],
            "_model_module": "@jupyter-widgets/controls",
            "_model_module_version": "1.5.0",
            "_model_name": "HTMLModel",
            "_view_count": null,
            "_view_module": "@jupyter-widgets/controls",
            "_view_module_version": "1.5.0",
            "_view_name": "HTMLView",
            "description": "",
            "description_tooltip": null,
            "layout": "IPY_MODEL_7d410da3de4e4269928f418d55c9013c",
            "placeholder": "​",
            "style": "IPY_MODEL_6955543bb63a43c596a84bb97e23c56d",
            "value": " 1.66k/1.66k [00:00&lt;00:00, 45.9kB/s]"
          }
        },
        "d06c2f1623d94d79bbc45fbfac0578da": {
          "model_module": "@jupyter-widgets/controls",
          "model_module_version": "1.5.0",
          "model_name": "DescriptionStyleModel",
          "state": {
            "_model_module": "@jupyter-widgets/controls",
            "_model_module_version": "1.5.0",
            "_model_name": "DescriptionStyleModel",
            "_view_count": null,
            "_view_module": "@jupyter-widgets/base",
            "_view_module_version": "1.2.0",
            "_view_name": "StyleView",
            "description_width": ""
          }
        },
        "d472a00c17f449fb82b1b05fc7b3d2eb": {
          "model_module": "@jupyter-widgets/base",
          "model_module_version": "1.2.0",
          "model_name": "LayoutModel",
          "state": {
            "_model_module": "@jupyter-widgets/base",
            "_model_module_version": "1.2.0",
            "_model_name": "LayoutModel",
            "_view_count": null,
            "_view_module": "@jupyter-widgets/base",
            "_view_module_version": "1.2.0",
            "_view_name": "LayoutView",
            "align_content": null,
            "align_items": null,
            "align_self": null,
            "border": null,
            "bottom": null,
            "display": null,
            "flex": null,
            "flex_flow": null,
            "grid_area": null,
            "grid_auto_columns": null,
            "grid_auto_flow": null,
            "grid_auto_rows": null,
            "grid_column": null,
            "grid_gap": null,
            "grid_row": null,
            "grid_template_areas": null,
            "grid_template_columns": null,
            "grid_template_rows": null,
            "height": null,
            "justify_content": null,
            "justify_items": null,
            "left": null,
            "margin": null,
            "max_height": null,
            "max_width": null,
            "min_height": null,
            "min_width": null,
            "object_fit": null,
            "object_position": null,
            "order": null,
            "overflow": null,
            "overflow_x": null,
            "overflow_y": null,
            "padding": null,
            "right": null,
            "top": null,
            "visibility": null,
            "width": null
          }
        },
        "d5eddd816748421a8dd3220a7a2270a3": {
          "model_module": "@jupyter-widgets/base",
          "model_module_version": "1.2.0",
          "model_name": "LayoutModel",
          "state": {
            "_model_module": "@jupyter-widgets/base",
            "_model_module_version": "1.2.0",
            "_model_name": "LayoutModel",
            "_view_count": null,
            "_view_module": "@jupyter-widgets/base",
            "_view_module_version": "1.2.0",
            "_view_name": "LayoutView",
            "align_content": null,
            "align_items": null,
            "align_self": null,
            "border": null,
            "bottom": null,
            "display": null,
            "flex": null,
            "flex_flow": null,
            "grid_area": null,
            "grid_auto_columns": null,
            "grid_auto_flow": null,
            "grid_auto_rows": null,
            "grid_column": null,
            "grid_gap": null,
            "grid_row": null,
            "grid_template_areas": null,
            "grid_template_columns": null,
            "grid_template_rows": null,
            "height": null,
            "justify_content": null,
            "justify_items": null,
            "left": null,
            "margin": null,
            "max_height": null,
            "max_width": null,
            "min_height": null,
            "min_width": null,
            "object_fit": null,
            "object_position": null,
            "order": null,
            "overflow": null,
            "overflow_x": null,
            "overflow_y": null,
            "padding": null,
            "right": null,
            "top": null,
            "visibility": null,
            "width": null
          }
        },
        "d65e8293ffb7485d832d5a7e0f66fb56": {
          "model_module": "@jupyter-widgets/controls",
          "model_module_version": "1.5.0",
          "model_name": "ProgressStyleModel",
          "state": {
            "_model_module": "@jupyter-widgets/controls",
            "_model_module_version": "1.5.0",
            "_model_name": "ProgressStyleModel",
            "_view_count": null,
            "_view_module": "@jupyter-widgets/base",
            "_view_module_version": "1.2.0",
            "_view_name": "StyleView",
            "bar_color": null,
            "description_width": ""
          }
        },
        "d6d36d96bd9d474aa42fbc0062c29503": {
          "model_module": "@jupyter-widgets/base",
          "model_module_version": "1.2.0",
          "model_name": "LayoutModel",
          "state": {
            "_model_module": "@jupyter-widgets/base",
            "_model_module_version": "1.2.0",
            "_model_name": "LayoutModel",
            "_view_count": null,
            "_view_module": "@jupyter-widgets/base",
            "_view_module_version": "1.2.0",
            "_view_name": "LayoutView",
            "align_content": null,
            "align_items": null,
            "align_self": null,
            "border": null,
            "bottom": null,
            "display": null,
            "flex": null,
            "flex_flow": null,
            "grid_area": null,
            "grid_auto_columns": null,
            "grid_auto_flow": null,
            "grid_auto_rows": null,
            "grid_column": null,
            "grid_gap": null,
            "grid_row": null,
            "grid_template_areas": null,
            "grid_template_columns": null,
            "grid_template_rows": null,
            "height": null,
            "justify_content": null,
            "justify_items": null,
            "left": null,
            "margin": null,
            "max_height": null,
            "max_width": null,
            "min_height": null,
            "min_width": null,
            "object_fit": null,
            "object_position": null,
            "order": null,
            "overflow": null,
            "overflow_x": null,
            "overflow_y": null,
            "padding": null,
            "right": null,
            "top": null,
            "visibility": null,
            "width": null
          }
        },
        "d7da178a17df4656998a37ccb0600332": {
          "model_module": "@jupyter-widgets/controls",
          "model_module_version": "1.5.0",
          "model_name": "ProgressStyleModel",
          "state": {
            "_model_module": "@jupyter-widgets/controls",
            "_model_module_version": "1.5.0",
            "_model_name": "ProgressStyleModel",
            "_view_count": null,
            "_view_module": "@jupyter-widgets/base",
            "_view_module_version": "1.2.0",
            "_view_name": "StyleView",
            "bar_color": null,
            "description_width": ""
          }
        },
        "db49b06dacfd476b904e1172263248eb": {
          "model_module": "@jupyter-widgets/controls",
          "model_module_version": "1.5.0",
          "model_name": "DescriptionStyleModel",
          "state": {
            "_model_module": "@jupyter-widgets/controls",
            "_model_module_version": "1.5.0",
            "_model_name": "DescriptionStyleModel",
            "_view_count": null,
            "_view_module": "@jupyter-widgets/base",
            "_view_module_version": "1.2.0",
            "_view_name": "StyleView",
            "description_width": ""
          }
        },
        "df3b119ae67b4805bae4fa86b900f1c0": {
          "model_module": "@jupyter-widgets/controls",
          "model_module_version": "1.5.0",
          "model_name": "HTMLModel",
          "state": {
            "_dom_classes": [],
            "_model_module": "@jupyter-widgets/controls",
            "_model_module_version": "1.5.0",
            "_model_name": "HTMLModel",
            "_view_count": null,
            "_view_module": "@jupyter-widgets/controls",
            "_view_module_version": "1.5.0",
            "_view_name": "HTMLView",
            "description": "",
            "description_tooltip": null,
            "layout": "IPY_MODEL_156b3e0178bc402c9f7076bf9770f511",
            "placeholder": "​",
            "style": "IPY_MODEL_abbf064cf5b34bcbb624cc2fa455c441",
            "value": "Downloading metadata: 100%"
          }
        },
        "e96ef9c002904870913390815212a5b2": {
          "model_module": "@jupyter-widgets/base",
          "model_module_version": "1.2.0",
          "model_name": "LayoutModel",
          "state": {
            "_model_module": "@jupyter-widgets/base",
            "_model_module_version": "1.2.0",
            "_model_name": "LayoutModel",
            "_view_count": null,
            "_view_module": "@jupyter-widgets/base",
            "_view_module_version": "1.2.0",
            "_view_name": "LayoutView",
            "align_content": null,
            "align_items": null,
            "align_self": null,
            "border": null,
            "bottom": null,
            "display": null,
            "flex": null,
            "flex_flow": null,
            "grid_area": null,
            "grid_auto_columns": null,
            "grid_auto_flow": null,
            "grid_auto_rows": null,
            "grid_column": null,
            "grid_gap": null,
            "grid_row": null,
            "grid_template_areas": null,
            "grid_template_columns": null,
            "grid_template_rows": null,
            "height": null,
            "justify_content": null,
            "justify_items": null,
            "left": null,
            "margin": null,
            "max_height": null,
            "max_width": null,
            "min_height": null,
            "min_width": null,
            "object_fit": null,
            "object_position": null,
            "order": null,
            "overflow": null,
            "overflow_x": null,
            "overflow_y": null,
            "padding": null,
            "right": null,
            "top": null,
            "visibility": null,
            "width": null
          }
        },
        "ed7bfe8f79324ffcb092cc86b44e4a9a": {
          "model_module": "@jupyter-widgets/controls",
          "model_module_version": "1.5.0",
          "model_name": "DescriptionStyleModel",
          "state": {
            "_model_module": "@jupyter-widgets/controls",
            "_model_module_version": "1.5.0",
            "_model_name": "DescriptionStyleModel",
            "_view_count": null,
            "_view_module": "@jupyter-widgets/base",
            "_view_module_version": "1.2.0",
            "_view_name": "StyleView",
            "description_width": ""
          }
        },
        "f768c4a707a74c6d8d4c0c8696d21693": {
          "model_module": "@jupyter-widgets/base",
          "model_module_version": "1.2.0",
          "model_name": "LayoutModel",
          "state": {
            "_model_module": "@jupyter-widgets/base",
            "_model_module_version": "1.2.0",
            "_model_name": "LayoutModel",
            "_view_count": null,
            "_view_module": "@jupyter-widgets/base",
            "_view_module_version": "1.2.0",
            "_view_name": "LayoutView",
            "align_content": null,
            "align_items": null,
            "align_self": null,
            "border": null,
            "bottom": null,
            "display": null,
            "flex": null,
            "flex_flow": null,
            "grid_area": null,
            "grid_auto_columns": null,
            "grid_auto_flow": null,
            "grid_auto_rows": null,
            "grid_column": null,
            "grid_gap": null,
            "grid_row": null,
            "grid_template_areas": null,
            "grid_template_columns": null,
            "grid_template_rows": null,
            "height": null,
            "justify_content": null,
            "justify_items": null,
            "left": null,
            "margin": null,
            "max_height": null,
            "max_width": null,
            "min_height": null,
            "min_width": null,
            "object_fit": null,
            "object_position": null,
            "order": null,
            "overflow": null,
            "overflow_x": null,
            "overflow_y": null,
            "padding": null,
            "right": null,
            "top": null,
            "visibility": null,
            "width": null
          }
        }
      }
    }
  },
  "nbformat": 4,
  "nbformat_minor": 0
}
